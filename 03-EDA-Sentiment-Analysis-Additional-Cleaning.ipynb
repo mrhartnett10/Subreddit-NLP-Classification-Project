{
 "cells": [
  {
   "cell_type": "markdown",
   "metadata": {},
   "source": [
    "**Library Imports:**"
   ]
  },
  {
   "cell_type": "code",
   "execution_count": 1,
   "metadata": {},
   "outputs": [],
   "source": [
    "#Imports:\n",
    "import requests\n",
    "import numpy as np\n",
    "import pandas as pd\n",
    "from scipy import stats\n",
    "\n",
    "from sklearn.feature_extraction.text import CountVectorizer, TfidfVectorizer\n",
    "from nltk.stem import WordNetLemmatizer, PorterStemmer\n",
    "from vaderSentiment.vaderSentiment import SentimentIntensityAnalyzer\n",
    "\n",
    "import string\n",
    "import nltk\n",
    "\n",
    "import matplotlib.pyplot as plt\n",
    "import seaborn as sns"
   ]
  },
  {
   "cell_type": "markdown",
   "metadata": {},
   "source": [
    "**Read in Data from notebook 01 & 02**"
   ]
  },
  {
   "cell_type": "code",
   "execution_count": 2,
   "metadata": {},
   "outputs": [],
   "source": [
    "#Read in the data:\n",
    "intj = pd.read_csv('data/intj.csv', index_col=0)\n",
    "esfp = pd.read_csv('data/esfp.csv', index_col=0)"
   ]
  },
  {
   "cell_type": "markdown",
   "metadata": {},
   "source": [
    "## Additional Cleaning & Data Merging"
   ]
  },
  {
   "cell_type": "markdown",
   "metadata": {},
   "source": [
    "Since during our data loading process, any blank cells converted to null values, we should first check again to see how many null values were transferred over during our read ins:"
   ]
  },
  {
   "cell_type": "code",
   "execution_count": 3,
   "metadata": {},
   "outputs": [],
   "source": [
    "#Let's check for null data:"
   ]
  },
  {
   "cell_type": "code",
   "execution_count": 4,
   "metadata": {},
   "outputs": [
    {
     "data": {
      "text/plain": [
       "subreddit      0\n",
       "selftext     566\n",
       "title          0\n",
       "dtype: int64"
      ]
     },
     "execution_count": 4,
     "metadata": {},
     "output_type": "execute_result"
    }
   ],
   "source": [
    "intj.isnull().sum()"
   ]
  },
  {
   "cell_type": "code",
   "execution_count": 5,
   "metadata": {},
   "outputs": [
    {
     "data": {
      "text/plain": [
       "subreddit      0\n",
       "selftext     425\n",
       "title          0\n",
       "dtype: int64"
      ]
     },
     "execution_count": 5,
     "metadata": {},
     "output_type": "execute_result"
    }
   ],
   "source": [
    "esfp.isnull().sum()"
   ]
  },
  {
   "cell_type": "markdown",
   "metadata": {},
   "source": [
    "It looks like about roughly 25% of each data set now contains null values. Considering it is quite a substantial percentage, we know that we can't simply delete these rows and hope that our remaining data will be enough for analysis. As we mentioned in notebook 01, we can remember that some users elect to provide their posting information simply through the title with nothing else. That's why I elected to create an additional column that will combine the text found in the selftext column with the text in the title column. Since both pieces will come from the same post, this should maintain data integrity. The most effective method I found for this was to replace all the null values in selftext column with empty strings and then just combining them as shown below:"
   ]
  },
  {
   "cell_type": "code",
   "execution_count": 6,
   "metadata": {},
   "outputs": [],
   "source": [
    "#replace null selftexts with empty string:\n",
    "intj['selftext'].replace(np.nan, '', inplace=True)"
   ]
  },
  {
   "cell_type": "code",
   "execution_count": 7,
   "metadata": {},
   "outputs": [],
   "source": [
    "#Combining selftext and title to a more useful 'combotext' column:\n",
    "intj['combotext'] = intj['selftext'] + intj['title']"
   ]
  },
  {
   "cell_type": "code",
   "execution_count": 8,
   "metadata": {},
   "outputs": [
    {
     "data": {
      "text/html": [
       "<div>\n",
       "<style scoped>\n",
       "    .dataframe tbody tr th:only-of-type {\n",
       "        vertical-align: middle;\n",
       "    }\n",
       "\n",
       "    .dataframe tbody tr th {\n",
       "        vertical-align: top;\n",
       "    }\n",
       "\n",
       "    .dataframe thead th {\n",
       "        text-align: right;\n",
       "    }\n",
       "</style>\n",
       "<table border=\"1\" class=\"dataframe\">\n",
       "  <thead>\n",
       "    <tr style=\"text-align: right;\">\n",
       "      <th></th>\n",
       "      <th>subreddit</th>\n",
       "      <th>selftext</th>\n",
       "      <th>title</th>\n",
       "      <th>combotext</th>\n",
       "    </tr>\n",
       "  </thead>\n",
       "  <tbody>\n",
       "    <tr>\n",
       "      <th>0</th>\n",
       "      <td>intj</td>\n",
       "      <td>I'm genuinely stuck between being either an EN...</td>\n",
       "      <td>If I was, say, an INTJ with depression, life-l...</td>\n",
       "      <td>I'm genuinely stuck between being either an EN...</td>\n",
       "    </tr>\n",
       "    <tr>\n",
       "      <th>1</th>\n",
       "      <td>intj</td>\n",
       "      <td>[View Poll](https://www.reddit.com/poll/l8056v)</td>\n",
       "      <td>How many people text you per day?</td>\n",
       "      <td>[View Poll](https://www.reddit.com/poll/l8056v...</td>\n",
       "    </tr>\n",
       "    <tr>\n",
       "      <th>2</th>\n",
       "      <td>intj</td>\n",
       "      <td>Do you guys ever feel scared if the future you...</td>\n",
       "      <td>Are you guys scared?</td>\n",
       "      <td>Do you guys ever feel scared if the future you...</td>\n",
       "    </tr>\n",
       "    <tr>\n",
       "      <th>3</th>\n",
       "      <td>intj</td>\n",
       "      <td>I'll try to keep this short, I'm a 20 year old...</td>\n",
       "      <td>I just need someone to hear me out</td>\n",
       "      <td>I'll try to keep this short, I'm a 20 year old...</td>\n",
       "    </tr>\n",
       "    <tr>\n",
       "      <th>4</th>\n",
       "      <td>intj</td>\n",
       "      <td>[View Poll](https://www.reddit.com/poll/l7yhe7)</td>\n",
       "      <td>What do you think of r/wallstreetbets</td>\n",
       "      <td>[View Poll](https://www.reddit.com/poll/l7yhe7...</td>\n",
       "    </tr>\n",
       "    <tr>\n",
       "      <th>...</th>\n",
       "      <td>...</td>\n",
       "      <td>...</td>\n",
       "      <td>...</td>\n",
       "      <td>...</td>\n",
       "    </tr>\n",
       "    <tr>\n",
       "      <th>1811</th>\n",
       "      <td>intj</td>\n",
       "      <td>As we all know INTJs are considered unemotiona...</td>\n",
       "      <td>Being selectively emotional</td>\n",
       "      <td>As we all know INTJs are considered unemotiona...</td>\n",
       "    </tr>\n",
       "    <tr>\n",
       "      <th>1812</th>\n",
       "      <td>intj</td>\n",
       "      <td></td>\n",
       "      <td>The 3 voices in my head all the day :-</td>\n",
       "      <td>The 3 voices in my head all the day :-</td>\n",
       "    </tr>\n",
       "    <tr>\n",
       "      <th>1813</th>\n",
       "      <td>intj</td>\n",
       "      <td>I don’t want to say it, but I feel like I’m be...</td>\n",
       "      <td>INFJ Wife</td>\n",
       "      <td>I don’t want to say it, but I feel like I’m be...</td>\n",
       "    </tr>\n",
       "    <tr>\n",
       "      <th>1814</th>\n",
       "      <td>intj</td>\n",
       "      <td>I should preface this by saying that I am 18 a...</td>\n",
       "      <td>Dating as a female INTJ</td>\n",
       "      <td>I should preface this by saying that I am 18 a...</td>\n",
       "    </tr>\n",
       "    <tr>\n",
       "      <th>1815</th>\n",
       "      <td>intj</td>\n",
       "      <td>Which music album would you enjoy listening to...</td>\n",
       "      <td>Which are your top five favourite music albums...</td>\n",
       "      <td>Which music album would you enjoy listening to...</td>\n",
       "    </tr>\n",
       "  </tbody>\n",
       "</table>\n",
       "<p>1816 rows × 4 columns</p>\n",
       "</div>"
      ],
      "text/plain": [
       "     subreddit                                           selftext  \\\n",
       "0         intj  I'm genuinely stuck between being either an EN...   \n",
       "1         intj    [View Poll](https://www.reddit.com/poll/l8056v)   \n",
       "2         intj  Do you guys ever feel scared if the future you...   \n",
       "3         intj  I'll try to keep this short, I'm a 20 year old...   \n",
       "4         intj    [View Poll](https://www.reddit.com/poll/l7yhe7)   \n",
       "...        ...                                                ...   \n",
       "1811      intj  As we all know INTJs are considered unemotiona...   \n",
       "1812      intj                                                      \n",
       "1813      intj  I don’t want to say it, but I feel like I’m be...   \n",
       "1814      intj  I should preface this by saying that I am 18 a...   \n",
       "1815      intj  Which music album would you enjoy listening to...   \n",
       "\n",
       "                                                  title  \\\n",
       "0     If I was, say, an INTJ with depression, life-l...   \n",
       "1                     How many people text you per day?   \n",
       "2                                  Are you guys scared?   \n",
       "3                    I just need someone to hear me out   \n",
       "4                 What do you think of r/wallstreetbets   \n",
       "...                                                 ...   \n",
       "1811                        Being selectively emotional   \n",
       "1812             The 3 voices in my head all the day :-   \n",
       "1813                                          INFJ Wife   \n",
       "1814                            Dating as a female INTJ   \n",
       "1815  Which are your top five favourite music albums...   \n",
       "\n",
       "                                              combotext  \n",
       "0     I'm genuinely stuck between being either an EN...  \n",
       "1     [View Poll](https://www.reddit.com/poll/l8056v...  \n",
       "2     Do you guys ever feel scared if the future you...  \n",
       "3     I'll try to keep this short, I'm a 20 year old...  \n",
       "4     [View Poll](https://www.reddit.com/poll/l7yhe7...  \n",
       "...                                                 ...  \n",
       "1811  As we all know INTJs are considered unemotiona...  \n",
       "1812             The 3 voices in my head all the day :-  \n",
       "1813  I don’t want to say it, but I feel like I’m be...  \n",
       "1814  I should preface this by saying that I am 18 a...  \n",
       "1815  Which music album would you enjoy listening to...  \n",
       "\n",
       "[1816 rows x 4 columns]"
      ]
     },
     "execution_count": 8,
     "metadata": {},
     "output_type": "execute_result"
    }
   ],
   "source": [
    "#sanity check\n",
    "intj"
   ]
  },
  {
   "cell_type": "code",
   "execution_count": 9,
   "metadata": {},
   "outputs": [
    {
     "data": {
      "text/plain": [
       "\"I'm genuinely stuck between being either an ENTP or an INTJ.If I was, say, an INTJ with depression, life-long ADHD, OCD, and ODD, how might I live my life or behave?\""
      ]
     },
     "execution_count": 9,
     "metadata": {},
     "output_type": "execute_result"
    }
   ],
   "source": [
    "#combotext check for first row:\n",
    "intj['combotext'][0]"
   ]
  },
  {
   "cell_type": "markdown",
   "metadata": {},
   "source": [
    "Whatever do on one dataframe, we'll have to do on the other. That will allow us to effectively combine them further along in the project:"
   ]
  },
  {
   "cell_type": "code",
   "execution_count": 10,
   "metadata": {},
   "outputs": [],
   "source": [
    "#same thing for espf\n",
    "esfp['selftext'].replace(np.nan, '', inplace=True)"
   ]
  },
  {
   "cell_type": "code",
   "execution_count": 11,
   "metadata": {},
   "outputs": [],
   "source": [
    "esfp['combotext'] = esfp['selftext'] + esfp['title']"
   ]
  },
  {
   "cell_type": "code",
   "execution_count": 12,
   "metadata": {},
   "outputs": [
    {
     "data": {
      "text/html": [
       "<div>\n",
       "<style scoped>\n",
       "    .dataframe tbody tr th:only-of-type {\n",
       "        vertical-align: middle;\n",
       "    }\n",
       "\n",
       "    .dataframe tbody tr th {\n",
       "        vertical-align: top;\n",
       "    }\n",
       "\n",
       "    .dataframe thead th {\n",
       "        text-align: right;\n",
       "    }\n",
       "</style>\n",
       "<table border=\"1\" class=\"dataframe\">\n",
       "  <thead>\n",
       "    <tr style=\"text-align: right;\">\n",
       "      <th></th>\n",
       "      <th>subreddit</th>\n",
       "      <th>selftext</th>\n",
       "      <th>title</th>\n",
       "      <th>combotext</th>\n",
       "    </tr>\n",
       "  </thead>\n",
       "  <tbody>\n",
       "    <tr>\n",
       "      <th>0</th>\n",
       "      <td>ESFP</td>\n",
       "      <td></td>\n",
       "      <td>[survey] MBTI—Enneagram Tritype Correlation</td>\n",
       "      <td>[survey] MBTI—Enneagram Tritype Correlation</td>\n",
       "    </tr>\n",
       "    <tr>\n",
       "      <th>1</th>\n",
       "      <td>ESFP</td>\n",
       "      <td>just for fun[View Poll](https://www.reddit.com...</td>\n",
       "      <td>Zodiac Sign</td>\n",
       "      <td>just for fun[View Poll](https://www.reddit.com...</td>\n",
       "    </tr>\n",
       "    <tr>\n",
       "      <th>2</th>\n",
       "      <td>ESFP</td>\n",
       "      <td>We currently have a very active MBTI discord s...</td>\n",
       "      <td>Any ESFPs (or others) here would like to join ...</td>\n",
       "      <td>We currently have a very active MBTI discord s...</td>\n",
       "    </tr>\n",
       "    <tr>\n",
       "      <th>3</th>\n",
       "      <td>ESFP</td>\n",
       "      <td>I have seen someone in r/ESTP saying that(i gu...</td>\n",
       "      <td>Are there anyone in romantic relatioship with ...</td>\n",
       "      <td>I have seen someone in r/ESTP saying that(i gu...</td>\n",
       "    </tr>\n",
       "    <tr>\n",
       "      <th>4</th>\n",
       "      <td>ESFP</td>\n",
       "      <td>Like, a lot of people see (or refer to) the ES...</td>\n",
       "      <td>What is your idea of the \"party girl\"?</td>\n",
       "      <td>Like, a lot of people see (or refer to) the ES...</td>\n",
       "    </tr>\n",
       "    <tr>\n",
       "      <th>...</th>\n",
       "      <td>...</td>\n",
       "      <td>...</td>\n",
       "      <td>...</td>\n",
       "      <td>...</td>\n",
       "    </tr>\n",
       "    <tr>\n",
       "      <th>1893</th>\n",
       "      <td>ESFP</td>\n",
       "      <td>Are we ESFPs that much of a minority on Reddit...</td>\n",
       "      <td>Why is this subreddit so underpopulated?</td>\n",
       "      <td>Are we ESFPs that much of a minority on Reddit...</td>\n",
       "    </tr>\n",
       "    <tr>\n",
       "      <th>1894</th>\n",
       "      <td>ESFP</td>\n",
       "      <td></td>\n",
       "      <td>A study found that the only leisure pastime fo...</td>\n",
       "      <td>A study found that the only leisure pastime fo...</td>\n",
       "    </tr>\n",
       "    <tr>\n",
       "      <th>1895</th>\n",
       "      <td>ESFP</td>\n",
       "      <td></td>\n",
       "      <td>Asking the ESFP if the water is half-full or h...</td>\n",
       "      <td>Asking the ESFP if the water is half-full or h...</td>\n",
       "    </tr>\n",
       "    <tr>\n",
       "      <th>1896</th>\n",
       "      <td>ESFP</td>\n",
       "      <td></td>\n",
       "      <td>Famous ESFPs - CelebrityTypes.com</td>\n",
       "      <td>Famous ESFPs - CelebrityTypes.com</td>\n",
       "    </tr>\n",
       "    <tr>\n",
       "      <th>1897</th>\n",
       "      <td>ESFP</td>\n",
       "      <td></td>\n",
       "      <td>4 Hot Careers for ESFPs</td>\n",
       "      <td>4 Hot Careers for ESFPs</td>\n",
       "    </tr>\n",
       "  </tbody>\n",
       "</table>\n",
       "<p>1898 rows × 4 columns</p>\n",
       "</div>"
      ],
      "text/plain": [
       "     subreddit                                           selftext  \\\n",
       "0         ESFP                                                      \n",
       "1         ESFP  just for fun[View Poll](https://www.reddit.com...   \n",
       "2         ESFP  We currently have a very active MBTI discord s...   \n",
       "3         ESFP  I have seen someone in r/ESTP saying that(i gu...   \n",
       "4         ESFP  Like, a lot of people see (or refer to) the ES...   \n",
       "...        ...                                                ...   \n",
       "1893      ESFP  Are we ESFPs that much of a minority on Reddit...   \n",
       "1894      ESFP                                                      \n",
       "1895      ESFP                                                      \n",
       "1896      ESFP                                                      \n",
       "1897      ESFP                                                      \n",
       "\n",
       "                                                  title  \\\n",
       "0           [survey] MBTI—Enneagram Tritype Correlation   \n",
       "1                                           Zodiac Sign   \n",
       "2     Any ESFPs (or others) here would like to join ...   \n",
       "3     Are there anyone in romantic relatioship with ...   \n",
       "4                What is your idea of the \"party girl\"?   \n",
       "...                                                 ...   \n",
       "1893           Why is this subreddit so underpopulated?   \n",
       "1894  A study found that the only leisure pastime fo...   \n",
       "1895  Asking the ESFP if the water is half-full or h...   \n",
       "1896                  Famous ESFPs - CelebrityTypes.com   \n",
       "1897                            4 Hot Careers for ESFPs   \n",
       "\n",
       "                                              combotext  \n",
       "0           [survey] MBTI—Enneagram Tritype Correlation  \n",
       "1     just for fun[View Poll](https://www.reddit.com...  \n",
       "2     We currently have a very active MBTI discord s...  \n",
       "3     I have seen someone in r/ESTP saying that(i gu...  \n",
       "4     Like, a lot of people see (or refer to) the ES...  \n",
       "...                                                 ...  \n",
       "1893  Are we ESFPs that much of a minority on Reddit...  \n",
       "1894  A study found that the only leisure pastime fo...  \n",
       "1895  Asking the ESFP if the water is half-full or h...  \n",
       "1896                  Famous ESFPs - CelebrityTypes.com  \n",
       "1897                            4 Hot Careers for ESFPs  \n",
       "\n",
       "[1898 rows x 4 columns]"
      ]
     },
     "execution_count": 12,
     "metadata": {},
     "output_type": "execute_result"
    }
   ],
   "source": [
    "esfp"
   ]
  },
  {
   "cell_type": "code",
   "execution_count": 13,
   "metadata": {},
   "outputs": [
    {
     "data": {
      "text/plain": [
       "'We currently have a very active MBTI discord server that consists of many personality types. We have a general chatroom where we talk, but we also do a lot of activities, such as group music listening sessions! DM or comment if you are interested in joining the server.Any ESFPs (or others) here would like to join our general MBTI discord server?'"
      ]
     },
     "execution_count": 13,
     "metadata": {},
     "output_type": "execute_result"
    }
   ],
   "source": [
    "#combotext check\n",
    "esfp['combotext'][2]"
   ]
  },
  {
   "cell_type": "markdown",
   "metadata": {},
   "source": [
    "Now that we have our combotext columns for both sets, let's combine the two into one single dataframe for our analysis. We can use the pd.concat method for this and attach the intj frame to our ESFP. Sine each dataframe has their own respective indicies, we will have to once again reset our index as we did before."
   ]
  },
  {
   "cell_type": "code",
   "execution_count": 14,
   "metadata": {},
   "outputs": [],
   "source": [
    "#combine intj and esfp:\n",
    "df_cat = pd.concat([esfp, intj])"
   ]
  },
  {
   "cell_type": "code",
   "execution_count": 15,
   "metadata": {},
   "outputs": [],
   "source": [
    "#reset index\n",
    "df_cat.reset_index(drop = True, inplace=True)"
   ]
  },
  {
   "cell_type": "code",
   "execution_count": 16,
   "metadata": {},
   "outputs": [
    {
     "data": {
      "text/html": [
       "<div>\n",
       "<style scoped>\n",
       "    .dataframe tbody tr th:only-of-type {\n",
       "        vertical-align: middle;\n",
       "    }\n",
       "\n",
       "    .dataframe tbody tr th {\n",
       "        vertical-align: top;\n",
       "    }\n",
       "\n",
       "    .dataframe thead th {\n",
       "        text-align: right;\n",
       "    }\n",
       "</style>\n",
       "<table border=\"1\" class=\"dataframe\">\n",
       "  <thead>\n",
       "    <tr style=\"text-align: right;\">\n",
       "      <th></th>\n",
       "      <th>subreddit</th>\n",
       "      <th>selftext</th>\n",
       "      <th>title</th>\n",
       "      <th>combotext</th>\n",
       "    </tr>\n",
       "  </thead>\n",
       "  <tbody>\n",
       "    <tr>\n",
       "      <th>0</th>\n",
       "      <td>ESFP</td>\n",
       "      <td></td>\n",
       "      <td>[survey] MBTI—Enneagram Tritype Correlation</td>\n",
       "      <td>[survey] MBTI—Enneagram Tritype Correlation</td>\n",
       "    </tr>\n",
       "    <tr>\n",
       "      <th>1</th>\n",
       "      <td>ESFP</td>\n",
       "      <td>just for fun[View Poll](https://www.reddit.com...</td>\n",
       "      <td>Zodiac Sign</td>\n",
       "      <td>just for fun[View Poll](https://www.reddit.com...</td>\n",
       "    </tr>\n",
       "    <tr>\n",
       "      <th>2</th>\n",
       "      <td>ESFP</td>\n",
       "      <td>We currently have a very active MBTI discord s...</td>\n",
       "      <td>Any ESFPs (or others) here would like to join ...</td>\n",
       "      <td>We currently have a very active MBTI discord s...</td>\n",
       "    </tr>\n",
       "    <tr>\n",
       "      <th>3</th>\n",
       "      <td>ESFP</td>\n",
       "      <td>I have seen someone in r/ESTP saying that(i gu...</td>\n",
       "      <td>Are there anyone in romantic relatioship with ...</td>\n",
       "      <td>I have seen someone in r/ESTP saying that(i gu...</td>\n",
       "    </tr>\n",
       "    <tr>\n",
       "      <th>4</th>\n",
       "      <td>ESFP</td>\n",
       "      <td>Like, a lot of people see (or refer to) the ES...</td>\n",
       "      <td>What is your idea of the \"party girl\"?</td>\n",
       "      <td>Like, a lot of people see (or refer to) the ES...</td>\n",
       "    </tr>\n",
       "    <tr>\n",
       "      <th>...</th>\n",
       "      <td>...</td>\n",
       "      <td>...</td>\n",
       "      <td>...</td>\n",
       "      <td>...</td>\n",
       "    </tr>\n",
       "    <tr>\n",
       "      <th>3709</th>\n",
       "      <td>intj</td>\n",
       "      <td>As we all know INTJs are considered unemotiona...</td>\n",
       "      <td>Being selectively emotional</td>\n",
       "      <td>As we all know INTJs are considered unemotiona...</td>\n",
       "    </tr>\n",
       "    <tr>\n",
       "      <th>3710</th>\n",
       "      <td>intj</td>\n",
       "      <td></td>\n",
       "      <td>The 3 voices in my head all the day :-</td>\n",
       "      <td>The 3 voices in my head all the day :-</td>\n",
       "    </tr>\n",
       "    <tr>\n",
       "      <th>3711</th>\n",
       "      <td>intj</td>\n",
       "      <td>I don’t want to say it, but I feel like I’m be...</td>\n",
       "      <td>INFJ Wife</td>\n",
       "      <td>I don’t want to say it, but I feel like I’m be...</td>\n",
       "    </tr>\n",
       "    <tr>\n",
       "      <th>3712</th>\n",
       "      <td>intj</td>\n",
       "      <td>I should preface this by saying that I am 18 a...</td>\n",
       "      <td>Dating as a female INTJ</td>\n",
       "      <td>I should preface this by saying that I am 18 a...</td>\n",
       "    </tr>\n",
       "    <tr>\n",
       "      <th>3713</th>\n",
       "      <td>intj</td>\n",
       "      <td>Which music album would you enjoy listening to...</td>\n",
       "      <td>Which are your top five favourite music albums...</td>\n",
       "      <td>Which music album would you enjoy listening to...</td>\n",
       "    </tr>\n",
       "  </tbody>\n",
       "</table>\n",
       "<p>3714 rows × 4 columns</p>\n",
       "</div>"
      ],
      "text/plain": [
       "     subreddit                                           selftext  \\\n",
       "0         ESFP                                                      \n",
       "1         ESFP  just for fun[View Poll](https://www.reddit.com...   \n",
       "2         ESFP  We currently have a very active MBTI discord s...   \n",
       "3         ESFP  I have seen someone in r/ESTP saying that(i gu...   \n",
       "4         ESFP  Like, a lot of people see (or refer to) the ES...   \n",
       "...        ...                                                ...   \n",
       "3709      intj  As we all know INTJs are considered unemotiona...   \n",
       "3710      intj                                                      \n",
       "3711      intj  I don’t want to say it, but I feel like I’m be...   \n",
       "3712      intj  I should preface this by saying that I am 18 a...   \n",
       "3713      intj  Which music album would you enjoy listening to...   \n",
       "\n",
       "                                                  title  \\\n",
       "0           [survey] MBTI—Enneagram Tritype Correlation   \n",
       "1                                           Zodiac Sign   \n",
       "2     Any ESFPs (or others) here would like to join ...   \n",
       "3     Are there anyone in romantic relatioship with ...   \n",
       "4                What is your idea of the \"party girl\"?   \n",
       "...                                                 ...   \n",
       "3709                        Being selectively emotional   \n",
       "3710             The 3 voices in my head all the day :-   \n",
       "3711                                          INFJ Wife   \n",
       "3712                            Dating as a female INTJ   \n",
       "3713  Which are your top five favourite music albums...   \n",
       "\n",
       "                                              combotext  \n",
       "0           [survey] MBTI—Enneagram Tritype Correlation  \n",
       "1     just for fun[View Poll](https://www.reddit.com...  \n",
       "2     We currently have a very active MBTI discord s...  \n",
       "3     I have seen someone in r/ESTP saying that(i gu...  \n",
       "4     Like, a lot of people see (or refer to) the ES...  \n",
       "...                                                 ...  \n",
       "3709  As we all know INTJs are considered unemotiona...  \n",
       "3710             The 3 voices in my head all the day :-  \n",
       "3711  I don’t want to say it, but I feel like I’m be...  \n",
       "3712  I should preface this by saying that I am 18 a...  \n",
       "3713  Which music album would you enjoy listening to...  \n",
       "\n",
       "[3714 rows x 4 columns]"
      ]
     },
     "execution_count": 16,
     "metadata": {},
     "output_type": "execute_result"
    }
   ],
   "source": [
    "#examining our next concatenated data:\n",
    "df_cat"
   ]
  },
  {
   "cell_type": "markdown",
   "metadata": {},
   "source": [
    "### Pesky URLs"
   ]
  },
  {
   "cell_type": "markdown",
   "metadata": {},
   "source": [
    "One thing we haven't addressed yet from a cleaning standpoint are all the links that users have included in their posts. Since our classifier will view this as nonsense and may introduce unnecessary noise during our modeling, we will want to remove these links. A handy way to do this is with the method shown below: "
   ]
  },
  {
   "cell_type": "code",
   "execution_count": 17,
   "metadata": {},
   "outputs": [],
   "source": [
    "# https://stackoverflow.com/questions/55422716/how-to-remove-http-url-links-from-a-data-frame-column-in-nlp\n",
    "df_cat['combotext']=df_cat['combotext'].str.replace('http.*', '',regex = True)"
   ]
  },
  {
   "cell_type": "code",
   "execution_count": 18,
   "metadata": {},
   "outputs": [],
   "source": [
    "df_cat['combotext']=df_cat['combotext'].str.replace('www.*', '',regex = True)"
   ]
  },
  {
   "cell_type": "code",
   "execution_count": 19,
   "metadata": {},
   "outputs": [
    {
     "data": {
      "text/plain": [
       "0             [survey] MBTI—Enneagram Tritype Correlation\n",
       "1                                just for fun[View Poll](\n",
       "2       We currently have a very active MBTI discord s...\n",
       "3       I have seen someone in r/ESTP saying that(i gu...\n",
       "4       Like, a lot of people see (or refer to) the ES...\n",
       "                              ...                        \n",
       "3709    As we all know INTJs are considered unemotiona...\n",
       "3710               The 3 voices in my head all the day :-\n",
       "3711    I don’t want to say it, but I feel like I’m be...\n",
       "3712    I should preface this by saying that I am 18 a...\n",
       "3713    Which music album would you enjoy listening to...\n",
       "Name: combotext, Length: 3714, dtype: object"
      ]
     },
     "execution_count": 19,
     "metadata": {},
     "output_type": "execute_result"
    }
   ],
   "source": [
    "df_cat['combotext']"
   ]
  },
  {
   "cell_type": "markdown",
   "metadata": {},
   "source": [
    "Another issue for our models, particularly our sentiment analysis analyzers is punctuation. Punctuation will make it difficult for our lemmatizer to recognize a word and know how to deal with it properly. In order to properly clean our combotext column we will have to both convert every character into lower case, but also remove all punctation found throughout the text. With help from google, I was able to implement the below function to simulatenously loop through the combotext row and convert each character to lower case and replace any punctuation with a space. "
   ]
  },
  {
   "cell_type": "markdown",
   "metadata": {},
   "source": [
    "### Punctuation"
   ]
  },
  {
   "cell_type": "code",
   "execution_count": 20,
   "metadata": {},
   "outputs": [],
   "source": [
    "# https://www.codegrepper.com/code-examples/python/pandas+series+remove+punctuation\n",
    "# Define the function to remove the punctuation and lower case column\n",
    "def remove_punctuations(text):\n",
    "    for punctuation in string.punctuation:\n",
    "        text = text.replace(punctuation, ' ')\n",
    "    return text.lower()\n",
    "df_cat['combotext'] = df_cat['combotext'].apply(remove_punctuations)"
   ]
  },
  {
   "cell_type": "code",
   "execution_count": 21,
   "metadata": {},
   "outputs": [
    {
     "data": {
      "text/html": [
       "<div>\n",
       "<style scoped>\n",
       "    .dataframe tbody tr th:only-of-type {\n",
       "        vertical-align: middle;\n",
       "    }\n",
       "\n",
       "    .dataframe tbody tr th {\n",
       "        vertical-align: top;\n",
       "    }\n",
       "\n",
       "    .dataframe thead th {\n",
       "        text-align: right;\n",
       "    }\n",
       "</style>\n",
       "<table border=\"1\" class=\"dataframe\">\n",
       "  <thead>\n",
       "    <tr style=\"text-align: right;\">\n",
       "      <th></th>\n",
       "      <th>subreddit</th>\n",
       "      <th>selftext</th>\n",
       "      <th>title</th>\n",
       "      <th>combotext</th>\n",
       "    </tr>\n",
       "  </thead>\n",
       "  <tbody>\n",
       "    <tr>\n",
       "      <th>0</th>\n",
       "      <td>ESFP</td>\n",
       "      <td></td>\n",
       "      <td>[survey] MBTI—Enneagram Tritype Correlation</td>\n",
       "      <td>survey  mbti—enneagram tritype correlation</td>\n",
       "    </tr>\n",
       "    <tr>\n",
       "      <th>1</th>\n",
       "      <td>ESFP</td>\n",
       "      <td>just for fun[View Poll](https://www.reddit.com...</td>\n",
       "      <td>Zodiac Sign</td>\n",
       "      <td>just for fun view poll</td>\n",
       "    </tr>\n",
       "    <tr>\n",
       "      <th>2</th>\n",
       "      <td>ESFP</td>\n",
       "      <td>We currently have a very active MBTI discord s...</td>\n",
       "      <td>Any ESFPs (or others) here would like to join ...</td>\n",
       "      <td>we currently have a very active mbti discord s...</td>\n",
       "    </tr>\n",
       "    <tr>\n",
       "      <th>3</th>\n",
       "      <td>ESFP</td>\n",
       "      <td>I have seen someone in r/ESTP saying that(i gu...</td>\n",
       "      <td>Are there anyone in romantic relatioship with ...</td>\n",
       "      <td>i have seen someone in r estp saying that i gu...</td>\n",
       "    </tr>\n",
       "    <tr>\n",
       "      <th>4</th>\n",
       "      <td>ESFP</td>\n",
       "      <td>Like, a lot of people see (or refer to) the ES...</td>\n",
       "      <td>What is your idea of the \"party girl\"?</td>\n",
       "      <td>like  a lot of people see  or refer to  the es...</td>\n",
       "    </tr>\n",
       "    <tr>\n",
       "      <th>...</th>\n",
       "      <td>...</td>\n",
       "      <td>...</td>\n",
       "      <td>...</td>\n",
       "      <td>...</td>\n",
       "    </tr>\n",
       "    <tr>\n",
       "      <th>3709</th>\n",
       "      <td>intj</td>\n",
       "      <td>As we all know INTJs are considered unemotiona...</td>\n",
       "      <td>Being selectively emotional</td>\n",
       "      <td>as we all know intjs are considered unemotiona...</td>\n",
       "    </tr>\n",
       "    <tr>\n",
       "      <th>3710</th>\n",
       "      <td>intj</td>\n",
       "      <td></td>\n",
       "      <td>The 3 voices in my head all the day :-</td>\n",
       "      <td>the 3 voices in my head all the day</td>\n",
       "    </tr>\n",
       "    <tr>\n",
       "      <th>3711</th>\n",
       "      <td>intj</td>\n",
       "      <td>I don’t want to say it, but I feel like I’m be...</td>\n",
       "      <td>INFJ Wife</td>\n",
       "      <td>i don’t want to say it  but i feel like i’m be...</td>\n",
       "    </tr>\n",
       "    <tr>\n",
       "      <th>3712</th>\n",
       "      <td>intj</td>\n",
       "      <td>I should preface this by saying that I am 18 a...</td>\n",
       "      <td>Dating as a female INTJ</td>\n",
       "      <td>i should preface this by saying that i am 18 a...</td>\n",
       "    </tr>\n",
       "    <tr>\n",
       "      <th>3713</th>\n",
       "      <td>intj</td>\n",
       "      <td>Which music album would you enjoy listening to...</td>\n",
       "      <td>Which are your top five favourite music albums...</td>\n",
       "      <td>which music album would you enjoy listening to...</td>\n",
       "    </tr>\n",
       "  </tbody>\n",
       "</table>\n",
       "<p>3714 rows × 4 columns</p>\n",
       "</div>"
      ],
      "text/plain": [
       "     subreddit                                           selftext  \\\n",
       "0         ESFP                                                      \n",
       "1         ESFP  just for fun[View Poll](https://www.reddit.com...   \n",
       "2         ESFP  We currently have a very active MBTI discord s...   \n",
       "3         ESFP  I have seen someone in r/ESTP saying that(i gu...   \n",
       "4         ESFP  Like, a lot of people see (or refer to) the ES...   \n",
       "...        ...                                                ...   \n",
       "3709      intj  As we all know INTJs are considered unemotiona...   \n",
       "3710      intj                                                      \n",
       "3711      intj  I don’t want to say it, but I feel like I’m be...   \n",
       "3712      intj  I should preface this by saying that I am 18 a...   \n",
       "3713      intj  Which music album would you enjoy listening to...   \n",
       "\n",
       "                                                  title  \\\n",
       "0           [survey] MBTI—Enneagram Tritype Correlation   \n",
       "1                                           Zodiac Sign   \n",
       "2     Any ESFPs (or others) here would like to join ...   \n",
       "3     Are there anyone in romantic relatioship with ...   \n",
       "4                What is your idea of the \"party girl\"?   \n",
       "...                                                 ...   \n",
       "3709                        Being selectively emotional   \n",
       "3710             The 3 voices in my head all the day :-   \n",
       "3711                                          INFJ Wife   \n",
       "3712                            Dating as a female INTJ   \n",
       "3713  Which are your top five favourite music albums...   \n",
       "\n",
       "                                              combotext  \n",
       "0            survey  mbti—enneagram tritype correlation  \n",
       "1                              just for fun view poll    \n",
       "2     we currently have a very active mbti discord s...  \n",
       "3     i have seen someone in r estp saying that i gu...  \n",
       "4     like  a lot of people see  or refer to  the es...  \n",
       "...                                                 ...  \n",
       "3709  as we all know intjs are considered unemotiona...  \n",
       "3710             the 3 voices in my head all the day     \n",
       "3711  i don’t want to say it  but i feel like i’m be...  \n",
       "3712  i should preface this by saying that i am 18 a...  \n",
       "3713  which music album would you enjoy listening to...  \n",
       "\n",
       "[3714 rows x 4 columns]"
      ]
     },
     "execution_count": 21,
     "metadata": {},
     "output_type": "execute_result"
    }
   ],
   "source": [
    "#checking to see if lower and removed punct:\n",
    "df_cat"
   ]
  },
  {
   "cell_type": "markdown",
   "metadata": {},
   "source": [
    "### Data Leakage"
   ]
  },
  {
   "cell_type": "markdown",
   "metadata": {},
   "source": [
    "From: https://machinelearningmastery.com/data-leakage-machine-learning/\n",
    "\n",
    "**What is Data Leakage:**\n",
    "\n",
    "Data leakage can cause you to create overly optimistic if not completely invalid predictive models. Data leakage is when information from outside the training dataset is used to create the model. This additional information can allow the model to learn or know something that it otherwise would not know and in turn invalidate the estimated performance of the mode being constructed.\n",
    "\n",
    "So with this in mind we will have to remove 'buzz' words that might jeopardize the integrity of our model. First place to start intuitively is the name of the actual subreddits themselves. Next we can expand our thinking on that and remove the words that the acronym actually stand for. We also know that these two characteristics are terms under the umbrella of the Myers-Briggs Type Indicator, also known as mbti for short, so that has to go as well. This step will be a bit easier since we already know all posts are in lower case, so we will only have to scan for the 'lower cased version' of the data leaking culprits.\n",
    "\n",
    "ESFP: **E**xtraverted **S**ensing **F**eeling **P**erceiving\n",
    "\n",
    "intj: **I**ntroverted i**N**tuitive **T**hinking **J**udgement \n",
    "\n",
    "All these words and acronyms must go. We can do this by setting a pattern below and then as we've been doing throughout replacing them with a blank. "
   ]
  },
  {
   "cell_type": "code",
   "execution_count": 22,
   "metadata": {},
   "outputs": [],
   "source": [
    "#remove key words to avoid data leaking: \n",
    "#key words: mbti, esfp, intj\n",
    "# https://stackoverflow.com/questions/49413005/replace-multiple-substrings-in-a-pandas-series-with-a-value\n",
    "pattern = '|'.join(['mbti', 'esfp', 'intj','poll', 'introverted', 'judgement', 'intuitive', 'thinking',\n",
    "                   'extraverted', 'sensing', 'feeling', 'perceiving'])\n",
    "df_cat['combotext']=df_cat['combotext'].str.replace(pattern, '')"
   ]
  },
  {
   "cell_type": "code",
   "execution_count": 23,
   "metadata": {},
   "outputs": [
    {
     "data": {
      "text/html": [
       "<div>\n",
       "<style scoped>\n",
       "    .dataframe tbody tr th:only-of-type {\n",
       "        vertical-align: middle;\n",
       "    }\n",
       "\n",
       "    .dataframe tbody tr th {\n",
       "        vertical-align: top;\n",
       "    }\n",
       "\n",
       "    .dataframe thead th {\n",
       "        text-align: right;\n",
       "    }\n",
       "</style>\n",
       "<table border=\"1\" class=\"dataframe\">\n",
       "  <thead>\n",
       "    <tr style=\"text-align: right;\">\n",
       "      <th></th>\n",
       "      <th>subreddit</th>\n",
       "      <th>selftext</th>\n",
       "      <th>title</th>\n",
       "      <th>combotext</th>\n",
       "    </tr>\n",
       "  </thead>\n",
       "  <tbody>\n",
       "    <tr>\n",
       "      <th>0</th>\n",
       "      <td>ESFP</td>\n",
       "      <td></td>\n",
       "      <td>[survey] MBTI—Enneagram Tritype Correlation</td>\n",
       "      <td>survey  —enneagram tritype correlation</td>\n",
       "    </tr>\n",
       "    <tr>\n",
       "      <th>1</th>\n",
       "      <td>ESFP</td>\n",
       "      <td>just for fun[View Poll](https://www.reddit.com...</td>\n",
       "      <td>Zodiac Sign</td>\n",
       "      <td>just for fun view</td>\n",
       "    </tr>\n",
       "    <tr>\n",
       "      <th>2</th>\n",
       "      <td>ESFP</td>\n",
       "      <td>We currently have a very active MBTI discord s...</td>\n",
       "      <td>Any ESFPs (or others) here would like to join ...</td>\n",
       "      <td>we currently have a very active  discord serve...</td>\n",
       "    </tr>\n",
       "    <tr>\n",
       "      <th>3</th>\n",
       "      <td>ESFP</td>\n",
       "      <td>I have seen someone in r/ESTP saying that(i gu...</td>\n",
       "      <td>Are there anyone in romantic relatioship with ...</td>\n",
       "      <td>i have seen someone in r estp saying that i gu...</td>\n",
       "    </tr>\n",
       "    <tr>\n",
       "      <th>4</th>\n",
       "      <td>ESFP</td>\n",
       "      <td>Like, a lot of people see (or refer to) the ES...</td>\n",
       "      <td>What is your idea of the \"party girl\"?</td>\n",
       "      <td>like  a lot of people see  or refer to  the  a...</td>\n",
       "    </tr>\n",
       "    <tr>\n",
       "      <th>...</th>\n",
       "      <td>...</td>\n",
       "      <td>...</td>\n",
       "      <td>...</td>\n",
       "      <td>...</td>\n",
       "    </tr>\n",
       "    <tr>\n",
       "      <th>3709</th>\n",
       "      <td>intj</td>\n",
       "      <td>As we all know INTJs are considered unemotiona...</td>\n",
       "      <td>Being selectively emotional</td>\n",
       "      <td>as we all know s are considered unemotional  b...</td>\n",
       "    </tr>\n",
       "    <tr>\n",
       "      <th>3710</th>\n",
       "      <td>intj</td>\n",
       "      <td></td>\n",
       "      <td>The 3 voices in my head all the day :-</td>\n",
       "      <td>the 3 voices in my head all the day</td>\n",
       "    </tr>\n",
       "    <tr>\n",
       "      <th>3711</th>\n",
       "      <td>intj</td>\n",
       "      <td>I don’t want to say it, but I feel like I’m be...</td>\n",
       "      <td>INFJ Wife</td>\n",
       "      <td>i don’t want to say it  but i feel like i’m be...</td>\n",
       "    </tr>\n",
       "    <tr>\n",
       "      <th>3712</th>\n",
       "      <td>intj</td>\n",
       "      <td>I should preface this by saying that I am 18 a...</td>\n",
       "      <td>Dating as a female INTJ</td>\n",
       "      <td>i should preface this by saying that i am 18 a...</td>\n",
       "    </tr>\n",
       "    <tr>\n",
       "      <th>3713</th>\n",
       "      <td>intj</td>\n",
       "      <td>Which music album would you enjoy listening to...</td>\n",
       "      <td>Which are your top five favourite music albums...</td>\n",
       "      <td>which music album would you enjoy listening to...</td>\n",
       "    </tr>\n",
       "  </tbody>\n",
       "</table>\n",
       "<p>3714 rows × 4 columns</p>\n",
       "</div>"
      ],
      "text/plain": [
       "     subreddit                                           selftext  \\\n",
       "0         ESFP                                                      \n",
       "1         ESFP  just for fun[View Poll](https://www.reddit.com...   \n",
       "2         ESFP  We currently have a very active MBTI discord s...   \n",
       "3         ESFP  I have seen someone in r/ESTP saying that(i gu...   \n",
       "4         ESFP  Like, a lot of people see (or refer to) the ES...   \n",
       "...        ...                                                ...   \n",
       "3709      intj  As we all know INTJs are considered unemotiona...   \n",
       "3710      intj                                                      \n",
       "3711      intj  I don’t want to say it, but I feel like I’m be...   \n",
       "3712      intj  I should preface this by saying that I am 18 a...   \n",
       "3713      intj  Which music album would you enjoy listening to...   \n",
       "\n",
       "                                                  title  \\\n",
       "0           [survey] MBTI—Enneagram Tritype Correlation   \n",
       "1                                           Zodiac Sign   \n",
       "2     Any ESFPs (or others) here would like to join ...   \n",
       "3     Are there anyone in romantic relatioship with ...   \n",
       "4                What is your idea of the \"party girl\"?   \n",
       "...                                                 ...   \n",
       "3709                        Being selectively emotional   \n",
       "3710             The 3 voices in my head all the day :-   \n",
       "3711                                          INFJ Wife   \n",
       "3712                            Dating as a female INTJ   \n",
       "3713  Which are your top five favourite music albums...   \n",
       "\n",
       "                                              combotext  \n",
       "0                survey  —enneagram tritype correlation  \n",
       "1                                  just for fun view     \n",
       "2     we currently have a very active  discord serve...  \n",
       "3     i have seen someone in r estp saying that i gu...  \n",
       "4     like  a lot of people see  or refer to  the  a...  \n",
       "...                                                 ...  \n",
       "3709  as we all know s are considered unemotional  b...  \n",
       "3710             the 3 voices in my head all the day     \n",
       "3711  i don’t want to say it  but i feel like i’m be...  \n",
       "3712  i should preface this by saying that i am 18 a...  \n",
       "3713  which music album would you enjoy listening to...  \n",
       "\n",
       "[3714 rows x 4 columns]"
      ]
     },
     "execution_count": 23,
     "metadata": {},
     "output_type": "execute_result"
    }
   ],
   "source": [
    "#sanity check\n",
    "df_cat"
   ]
  },
  {
   "cell_type": "markdown",
   "metadata": {},
   "source": [
    "### Stemming & Lemmatizing "
   ]
  },
  {
   "cell_type": "markdown",
   "metadata": {},
   "source": [
    "Next for proper sentiment analysis we will have to prepare the combotext either through stemming methods or lemmatizing. Stemming will attempt to recognize the root of the word and convert it into that format, while lemmatizing will analyze the word based on it's root inflection. This allows for better groupings of the word, i.e. cat and cats won't be counted separately, but together. Below is example of how to do both methods, after trying both stemming and lemmatizing, my analysis resulted more successfully with lemmatizing method, so that is what I elected to do. "
   ]
  },
  {
   "cell_type": "code",
   "execution_count": 24,
   "metadata": {},
   "outputs": [],
   "source": [
    "stemmer = PorterStemmer()\n",
    "#for loop through combotext, return new column:\n",
    "stems = []\n",
    "for row in df_cat['combotext']:\n",
    "    stems.append(' '.join([stemmer.stem(word) for word in row.split()]))"
   ]
  },
  {
   "cell_type": "code",
   "execution_count": 25,
   "metadata": {},
   "outputs": [],
   "source": [
    "#lemmatizing:\n",
    "#instantiate:\n",
    "lemmatizer = WordNetLemmatizer()\n",
    "#for loop through combotext, return new column:\n",
    "lemmatized = []\n",
    "for row in df_cat['combotext']:\n",
    "    lemmatized.append(' '.join([lemmatizer.lemmatize(word) for word in row.split()]))\n"
   ]
  },
  {
   "cell_type": "code",
   "execution_count": 26,
   "metadata": {},
   "outputs": [],
   "source": [
    "#Saving over the combo text with newly lemmatized column:\n",
    "df_cat['combotext'] = lemmatized"
   ]
  },
  {
   "cell_type": "code",
   "execution_count": 27,
   "metadata": {},
   "outputs": [
    {
     "data": {
      "text/html": [
       "<div>\n",
       "<style scoped>\n",
       "    .dataframe tbody tr th:only-of-type {\n",
       "        vertical-align: middle;\n",
       "    }\n",
       "\n",
       "    .dataframe tbody tr th {\n",
       "        vertical-align: top;\n",
       "    }\n",
       "\n",
       "    .dataframe thead th {\n",
       "        text-align: right;\n",
       "    }\n",
       "</style>\n",
       "<table border=\"1\" class=\"dataframe\">\n",
       "  <thead>\n",
       "    <tr style=\"text-align: right;\">\n",
       "      <th></th>\n",
       "      <th>subreddit</th>\n",
       "      <th>selftext</th>\n",
       "      <th>title</th>\n",
       "      <th>combotext</th>\n",
       "    </tr>\n",
       "  </thead>\n",
       "  <tbody>\n",
       "    <tr>\n",
       "      <th>0</th>\n",
       "      <td>ESFP</td>\n",
       "      <td></td>\n",
       "      <td>[survey] MBTI—Enneagram Tritype Correlation</td>\n",
       "      <td>survey —enneagram tritype correlation</td>\n",
       "    </tr>\n",
       "    <tr>\n",
       "      <th>1</th>\n",
       "      <td>ESFP</td>\n",
       "      <td>just for fun[View Poll](https://www.reddit.com...</td>\n",
       "      <td>Zodiac Sign</td>\n",
       "      <td>just for fun view</td>\n",
       "    </tr>\n",
       "    <tr>\n",
       "      <th>2</th>\n",
       "      <td>ESFP</td>\n",
       "      <td>We currently have a very active MBTI discord s...</td>\n",
       "      <td>Any ESFPs (or others) here would like to join ...</td>\n",
       "      <td>we currently have a very active discord server...</td>\n",
       "    </tr>\n",
       "    <tr>\n",
       "      <th>3</th>\n",
       "      <td>ESFP</td>\n",
       "      <td>I have seen someone in r/ESTP saying that(i gu...</td>\n",
       "      <td>Are there anyone in romantic relatioship with ...</td>\n",
       "      <td>i have seen someone in r estp saying that i gu...</td>\n",
       "    </tr>\n",
       "    <tr>\n",
       "      <th>4</th>\n",
       "      <td>ESFP</td>\n",
       "      <td>Like, a lot of people see (or refer to) the ES...</td>\n",
       "      <td>What is your idea of the \"party girl\"?</td>\n",
       "      <td>like a lot of people see or refer to the a a p...</td>\n",
       "    </tr>\n",
       "    <tr>\n",
       "      <th>...</th>\n",
       "      <td>...</td>\n",
       "      <td>...</td>\n",
       "      <td>...</td>\n",
       "      <td>...</td>\n",
       "    </tr>\n",
       "    <tr>\n",
       "      <th>3709</th>\n",
       "      <td>intj</td>\n",
       "      <td>As we all know INTJs are considered unemotiona...</td>\n",
       "      <td>Being selectively emotional</td>\n",
       "      <td>a we all know s are considered unemotional but...</td>\n",
       "    </tr>\n",
       "    <tr>\n",
       "      <th>3710</th>\n",
       "      <td>intj</td>\n",
       "      <td></td>\n",
       "      <td>The 3 voices in my head all the day :-</td>\n",
       "      <td>the 3 voice in my head all the day</td>\n",
       "    </tr>\n",
       "    <tr>\n",
       "      <th>3711</th>\n",
       "      <td>intj</td>\n",
       "      <td>I don’t want to say it, but I feel like I’m be...</td>\n",
       "      <td>INFJ Wife</td>\n",
       "      <td>i don’t want to say it but i feel like i’m beg...</td>\n",
       "    </tr>\n",
       "    <tr>\n",
       "      <th>3712</th>\n",
       "      <td>intj</td>\n",
       "      <td>I should preface this by saying that I am 18 a...</td>\n",
       "      <td>Dating as a female INTJ</td>\n",
       "      <td>i should preface this by saying that i am 18 a...</td>\n",
       "    </tr>\n",
       "    <tr>\n",
       "      <th>3713</th>\n",
       "      <td>intj</td>\n",
       "      <td>Which music album would you enjoy listening to...</td>\n",
       "      <td>Which are your top five favourite music albums...</td>\n",
       "      <td>which music album would you enjoy listening to...</td>\n",
       "    </tr>\n",
       "  </tbody>\n",
       "</table>\n",
       "<p>3714 rows × 4 columns</p>\n",
       "</div>"
      ],
      "text/plain": [
       "     subreddit                                           selftext  \\\n",
       "0         ESFP                                                      \n",
       "1         ESFP  just for fun[View Poll](https://www.reddit.com...   \n",
       "2         ESFP  We currently have a very active MBTI discord s...   \n",
       "3         ESFP  I have seen someone in r/ESTP saying that(i gu...   \n",
       "4         ESFP  Like, a lot of people see (or refer to) the ES...   \n",
       "...        ...                                                ...   \n",
       "3709      intj  As we all know INTJs are considered unemotiona...   \n",
       "3710      intj                                                      \n",
       "3711      intj  I don’t want to say it, but I feel like I’m be...   \n",
       "3712      intj  I should preface this by saying that I am 18 a...   \n",
       "3713      intj  Which music album would you enjoy listening to...   \n",
       "\n",
       "                                                  title  \\\n",
       "0           [survey] MBTI—Enneagram Tritype Correlation   \n",
       "1                                           Zodiac Sign   \n",
       "2     Any ESFPs (or others) here would like to join ...   \n",
       "3     Are there anyone in romantic relatioship with ...   \n",
       "4                What is your idea of the \"party girl\"?   \n",
       "...                                                 ...   \n",
       "3709                        Being selectively emotional   \n",
       "3710             The 3 voices in my head all the day :-   \n",
       "3711                                          INFJ Wife   \n",
       "3712                            Dating as a female INTJ   \n",
       "3713  Which are your top five favourite music albums...   \n",
       "\n",
       "                                              combotext  \n",
       "0                 survey —enneagram tritype correlation  \n",
       "1                                     just for fun view  \n",
       "2     we currently have a very active discord server...  \n",
       "3     i have seen someone in r estp saying that i gu...  \n",
       "4     like a lot of people see or refer to the a a p...  \n",
       "...                                                 ...  \n",
       "3709  a we all know s are considered unemotional but...  \n",
       "3710                 the 3 voice in my head all the day  \n",
       "3711  i don’t want to say it but i feel like i’m beg...  \n",
       "3712  i should preface this by saying that i am 18 a...  \n",
       "3713  which music album would you enjoy listening to...  \n",
       "\n",
       "[3714 rows x 4 columns]"
      ]
     },
     "execution_count": 27,
     "metadata": {},
     "output_type": "execute_result"
    }
   ],
   "source": [
    "#sanity check:\n",
    "df_cat"
   ]
  },
  {
   "cell_type": "markdown",
   "metadata": {},
   "source": [
    "### Post Length"
   ]
  },
  {
   "cell_type": "markdown",
   "metadata": {},
   "source": [
    "Another often looked at feature during EDA is to analyze the post lenghts. Maybe one subreddit correlates with longer posts length? Maybe the other is notorious for shorter posts? Best way to examine this is to create another column (or two in our case) by using the lambda function to return the length of each post. To get the more useful number of words, we will have to first split the post into segmented list and then calculate the length that way as seen below:"
   ]
  },
  {
   "cell_type": "code",
   "execution_count": 28,
   "metadata": {},
   "outputs": [],
   "source": [
    "#creating post length and worth count:\n",
    "df_cat['post_length'] = df_cat['combotext'].apply(lambda x: len(x))\n",
    "df_cat['post_word_count'] = df_cat['combotext'].apply(lambda x: len(x.split()))"
   ]
  },
  {
   "cell_type": "code",
   "execution_count": 29,
   "metadata": {},
   "outputs": [
    {
     "data": {
      "text/html": [
       "<div>\n",
       "<style scoped>\n",
       "    .dataframe tbody tr th:only-of-type {\n",
       "        vertical-align: middle;\n",
       "    }\n",
       "\n",
       "    .dataframe tbody tr th {\n",
       "        vertical-align: top;\n",
       "    }\n",
       "\n",
       "    .dataframe thead th {\n",
       "        text-align: right;\n",
       "    }\n",
       "</style>\n",
       "<table border=\"1\" class=\"dataframe\">\n",
       "  <thead>\n",
       "    <tr style=\"text-align: right;\">\n",
       "      <th></th>\n",
       "      <th>subreddit</th>\n",
       "      <th>selftext</th>\n",
       "      <th>title</th>\n",
       "      <th>combotext</th>\n",
       "      <th>post_length</th>\n",
       "      <th>post_word_count</th>\n",
       "    </tr>\n",
       "  </thead>\n",
       "  <tbody>\n",
       "    <tr>\n",
       "      <th>0</th>\n",
       "      <td>ESFP</td>\n",
       "      <td></td>\n",
       "      <td>[survey] MBTI—Enneagram Tritype Correlation</td>\n",
       "      <td>survey —enneagram tritype correlation</td>\n",
       "      <td>37</td>\n",
       "      <td>4</td>\n",
       "    </tr>\n",
       "    <tr>\n",
       "      <th>1</th>\n",
       "      <td>ESFP</td>\n",
       "      <td>just for fun[View Poll](https://www.reddit.com...</td>\n",
       "      <td>Zodiac Sign</td>\n",
       "      <td>just for fun view</td>\n",
       "      <td>17</td>\n",
       "      <td>4</td>\n",
       "    </tr>\n",
       "    <tr>\n",
       "      <th>2</th>\n",
       "      <td>ESFP</td>\n",
       "      <td>We currently have a very active MBTI discord s...</td>\n",
       "      <td>Any ESFPs (or others) here would like to join ...</td>\n",
       "      <td>we currently have a very active discord server...</td>\n",
       "      <td>321</td>\n",
       "      <td>60</td>\n",
       "    </tr>\n",
       "    <tr>\n",
       "      <th>3</th>\n",
       "      <td>ESFP</td>\n",
       "      <td>I have seen someone in r/ESTP saying that(i gu...</td>\n",
       "      <td>Are there anyone in romantic relatioship with ...</td>\n",
       "      <td>i have seen someone in r estp saying that i gu...</td>\n",
       "      <td>511</td>\n",
       "      <td>109</td>\n",
       "    </tr>\n",
       "    <tr>\n",
       "      <th>4</th>\n",
       "      <td>ESFP</td>\n",
       "      <td>Like, a lot of people see (or refer to) the ES...</td>\n",
       "      <td>What is your idea of the \"party girl\"?</td>\n",
       "      <td>like a lot of people see or refer to the a a p...</td>\n",
       "      <td>268</td>\n",
       "      <td>60</td>\n",
       "    </tr>\n",
       "    <tr>\n",
       "      <th>...</th>\n",
       "      <td>...</td>\n",
       "      <td>...</td>\n",
       "      <td>...</td>\n",
       "      <td>...</td>\n",
       "      <td>...</td>\n",
       "      <td>...</td>\n",
       "    </tr>\n",
       "    <tr>\n",
       "      <th>3709</th>\n",
       "      <td>intj</td>\n",
       "      <td>As we all know INTJs are considered unemotiona...</td>\n",
       "      <td>Being selectively emotional</td>\n",
       "      <td>a we all know s are considered unemotional but...</td>\n",
       "      <td>305</td>\n",
       "      <td>60</td>\n",
       "    </tr>\n",
       "    <tr>\n",
       "      <th>3710</th>\n",
       "      <td>intj</td>\n",
       "      <td></td>\n",
       "      <td>The 3 voices in my head all the day :-</td>\n",
       "      <td>the 3 voice in my head all the day</td>\n",
       "      <td>34</td>\n",
       "      <td>9</td>\n",
       "    </tr>\n",
       "    <tr>\n",
       "      <th>3711</th>\n",
       "      <td>intj</td>\n",
       "      <td>I don’t want to say it, but I feel like I’m be...</td>\n",
       "      <td>INFJ Wife</td>\n",
       "      <td>i don’t want to say it but i feel like i’m beg...</td>\n",
       "      <td>2727</td>\n",
       "      <td>540</td>\n",
       "    </tr>\n",
       "    <tr>\n",
       "      <th>3712</th>\n",
       "      <td>intj</td>\n",
       "      <td>I should preface this by saying that I am 18 a...</td>\n",
       "      <td>Dating as a female INTJ</td>\n",
       "      <td>i should preface this by saying that i am 18 a...</td>\n",
       "      <td>1472</td>\n",
       "      <td>279</td>\n",
       "    </tr>\n",
       "    <tr>\n",
       "      <th>3713</th>\n",
       "      <td>intj</td>\n",
       "      <td>Which music album would you enjoy listening to...</td>\n",
       "      <td>Which are your top five favourite music albums...</td>\n",
       "      <td>which music album would you enjoy listening to...</td>\n",
       "      <td>201</td>\n",
       "      <td>36</td>\n",
       "    </tr>\n",
       "  </tbody>\n",
       "</table>\n",
       "<p>3714 rows × 6 columns</p>\n",
       "</div>"
      ],
      "text/plain": [
       "     subreddit                                           selftext  \\\n",
       "0         ESFP                                                      \n",
       "1         ESFP  just for fun[View Poll](https://www.reddit.com...   \n",
       "2         ESFP  We currently have a very active MBTI discord s...   \n",
       "3         ESFP  I have seen someone in r/ESTP saying that(i gu...   \n",
       "4         ESFP  Like, a lot of people see (or refer to) the ES...   \n",
       "...        ...                                                ...   \n",
       "3709      intj  As we all know INTJs are considered unemotiona...   \n",
       "3710      intj                                                      \n",
       "3711      intj  I don’t want to say it, but I feel like I’m be...   \n",
       "3712      intj  I should preface this by saying that I am 18 a...   \n",
       "3713      intj  Which music album would you enjoy listening to...   \n",
       "\n",
       "                                                  title  \\\n",
       "0           [survey] MBTI—Enneagram Tritype Correlation   \n",
       "1                                           Zodiac Sign   \n",
       "2     Any ESFPs (or others) here would like to join ...   \n",
       "3     Are there anyone in romantic relatioship with ...   \n",
       "4                What is your idea of the \"party girl\"?   \n",
       "...                                                 ...   \n",
       "3709                        Being selectively emotional   \n",
       "3710             The 3 voices in my head all the day :-   \n",
       "3711                                          INFJ Wife   \n",
       "3712                            Dating as a female INTJ   \n",
       "3713  Which are your top five favourite music albums...   \n",
       "\n",
       "                                              combotext  post_length  \\\n",
       "0                 survey —enneagram tritype correlation           37   \n",
       "1                                     just for fun view           17   \n",
       "2     we currently have a very active discord server...          321   \n",
       "3     i have seen someone in r estp saying that i gu...          511   \n",
       "4     like a lot of people see or refer to the a a p...          268   \n",
       "...                                                 ...          ...   \n",
       "3709  a we all know s are considered unemotional but...          305   \n",
       "3710                 the 3 voice in my head all the day           34   \n",
       "3711  i don’t want to say it but i feel like i’m beg...         2727   \n",
       "3712  i should preface this by saying that i am 18 a...         1472   \n",
       "3713  which music album would you enjoy listening to...          201   \n",
       "\n",
       "      post_word_count  \n",
       "0                   4  \n",
       "1                   4  \n",
       "2                  60  \n",
       "3                 109  \n",
       "4                  60  \n",
       "...               ...  \n",
       "3709               60  \n",
       "3710                9  \n",
       "3711              540  \n",
       "3712              279  \n",
       "3713               36  \n",
       "\n",
       "[3714 rows x 6 columns]"
      ]
     },
     "execution_count": 29,
     "metadata": {},
     "output_type": "execute_result"
    }
   ],
   "source": [
    "#sanity check:\n",
    "df_cat"
   ]
  },
  {
   "cell_type": "markdown",
   "metadata": {},
   "source": [
    "## Word Count EDA"
   ]
  },
  {
   "cell_type": "markdown",
   "metadata": {},
   "source": [
    "First let's take a look at the post length by word count distribution for each subreddit. Initially I elected to just perform this on the whole set but as we can see, we will run into outliers that we may want to address when creaing our visualizations."
   ]
  },
  {
   "cell_type": "markdown",
   "metadata": {},
   "source": [
    "#### Distplots"
   ]
  },
  {
   "cell_type": "code",
   "execution_count": 30,
   "metadata": {},
   "outputs": [
    {
     "name": "stderr",
     "output_type": "stream",
     "text": [
      "/opt/anaconda3/lib/python3.8/site-packages/seaborn/distributions.py:2551: FutureWarning: `distplot` is a deprecated function and will be removed in a future version. Please adapt your code to use either `displot` (a figure-level function with similar flexibility) or `histplot` (an axes-level function for histograms).\n",
      "  warnings.warn(msg, FutureWarning)\n",
      "/opt/anaconda3/lib/python3.8/site-packages/seaborn/distributions.py:2551: FutureWarning: `distplot` is a deprecated function and will be removed in a future version. Please adapt your code to use either `displot` (a figure-level function with similar flexibility) or `histplot` (an axes-level function for histograms).\n",
      "  warnings.warn(msg, FutureWarning)\n"
     ]
    },
    {
     "data": {
      "image/png": "[encoded data removed]",
      "text/plain": [
       "<Figure size 1656x648 with 1 Axes>"
      ]
     },
     "metadata": {
      "needs_background": "light"
     },
     "output_type": "display_data"
    },
    {
     "data": {
      "image/png": "[encoded data removed]",
      "text/plain": [
       "<Figure size 1656x648 with 1 Axes>"
      ]
     },
     "metadata": {
      "needs_background": "light"
     },
     "output_type": "display_data"
    }
   ],
   "source": [
    "plt.figure(figsize=(23, 9))\n",
    "sns.distplot(df_cat[df_cat['subreddit']=='ESFP']['post_word_count'], bins = 50)\n",
    "plt.title('Distribution of ESFP Posts (by word count)')\n",
    "plt.xticks(np.arange(0,5001,250))\n",
    "\n",
    "plt.figure(figsize=(23, 9))\n",
    "sns.distplot(df_cat[df_cat['subreddit']=='intj']['post_word_count'], bins = 50)\n",
    "plt.title('Distribution of intj Posts (by word count)')\n",
    "plt.xticks(np.arange(0,5001,250));"
   ]
  },
  {
   "cell_type": "markdown",
   "metadata": {},
   "source": [
    "**Analysis:** We can observe from above that both subreddits are very right tailed in their distribution. The overwhelmng majority of posts falling below the 250 range with the bulk of the intj posts collecting in the 50 length ballpark. It is a little hard to see but we can safely assume that there are some outliers amongst the distrbution. An easy way to identify these is using boxplot and the .describe( ) method on our created length metric. "
   ]
  },
  {
   "cell_type": "markdown",
   "metadata": {},
   "source": [
    "#### Boxplots"
   ]
  },
  {
   "cell_type": "markdown",
   "metadata": {},
   "source": [
    "Best way to visually represent outliers is boxplots, so let's create some for our respective subreddits below, again using post word count as our x variable:"
   ]
  },
  {
   "cell_type": "code",
   "execution_count": 31,
   "metadata": {},
   "outputs": [
    {
     "name": "stderr",
     "output_type": "stream",
     "text": [
      "/opt/anaconda3/lib/python3.8/site-packages/seaborn/_decorators.py:36: FutureWarning: Pass the following variable as a keyword arg: x. From version 0.12, the only valid positional argument will be `data`, and passing other arguments without an explicit keyword will result in an error or misinterpretation.\n",
      "  warnings.warn(\n",
      "/opt/anaconda3/lib/python3.8/site-packages/seaborn/_decorators.py:36: FutureWarning: Pass the following variable as a keyword arg: x. From version 0.12, the only valid positional argument will be `data`, and passing other arguments without an explicit keyword will result in an error or misinterpretation.\n",
      "  warnings.warn(\n"
     ]
    },
    {
     "data": {
      "image/png": "[encoded data removed]",
      "text/plain": [
       "<Figure size 1656x360 with 1 Axes>"
      ]
     },
     "metadata": {
      "needs_background": "light"
     },
     "output_type": "display_data"
    },
    {
     "data": {
      "image/png": "[encoded data removed]",
      "text/plain": [
       "<Figure size 1656x360 with 1 Axes>"
      ]
     },
     "metadata": {
      "needs_background": "light"
     },
     "output_type": "display_data"
    }
   ],
   "source": [
    "plt.figure(figsize=(23,5))\n",
    "sns.boxplot(df_cat[df_cat['subreddit']=='ESFP']['post_word_count'])\n",
    "plt.xticks(np.arange(0,5000,500))\n",
    "plt.title('Distribution of ESFP Posts (by word count)')\n",
    "\n",
    "plt.figure(figsize=(23,5))\n",
    "sns.boxplot(df_cat[df_cat['subreddit']=='intj']['post_word_count'])\n",
    "plt.xticks(np.arange(0,5000,500))\n",
    "plt.title('Distribution of intj Posts (by word count)');"
   ]
  },
  {
   "cell_type": "markdown",
   "metadata": {},
   "source": [
    "**Analysis:** We can see both subreddits contain a high number of outliers both holding a threshold ouf the high 200s range. Fortunately these outliers won't have an adverse impact on our modeling since post length won't be a determing feature of our model (in fact higher word count will actually only help it (more data)), but if we want to calculate our outlier benchmarks we can do so by utilizing the .describe on our metric and then calculating the IQR (Interquartile Range) and both adding and subtracting it to/from 3rd Q and 1st Q respectively. Let's perform for borth subreddits:"
   ]
  },
  {
   "cell_type": "code",
   "execution_count": 32,
   "metadata": {},
   "outputs": [
    {
     "data": {
      "text/plain": [
       "count    1898.000000\n",
       "mean       97.564805\n",
       "std       191.147555\n",
       "min         0.000000\n",
       "25%        15.000000\n",
       "50%        44.000000\n",
       "75%       114.000000\n",
       "max      4789.000000\n",
       "Name: post_word_count, dtype: float64"
      ]
     },
     "execution_count": 32,
     "metadata": {},
     "output_type": "execute_result"
    }
   ],
   "source": [
    "df_cat[df_cat['subreddit']=='ESFP']['post_word_count'].describe()"
   ]
  },
  {
   "cell_type": "code",
   "execution_count": 33,
   "metadata": {},
   "outputs": [
    {
     "name": "stdout",
     "output_type": "stream",
     "text": [
      "ESFP outlier_bottom -145.0\n",
      "ESFP outlier_top 287.0\n"
     ]
    }
   ],
   "source": [
    "IQR = 1.5*(125-17)\n",
    "print('ESFP outlier_bottom', 17 - IQR)\n",
    "print('ESFP outlier_top',  125 + IQR)"
   ]
  },
  {
   "cell_type": "code",
   "execution_count": 34,
   "metadata": {},
   "outputs": [
    {
     "data": {
      "text/plain": [
       "count    1816.000000\n",
       "mean       85.656388\n",
       "std       143.344970\n",
       "min         0.000000\n",
       "25%        11.000000\n",
       "50%        32.000000\n",
       "75%       104.250000\n",
       "max      2155.000000\n",
       "Name: post_word_count, dtype: float64"
      ]
     },
     "execution_count": 34,
     "metadata": {},
     "output_type": "execute_result"
    }
   ],
   "source": [
    "df_cat[df_cat['subreddit']=='intj']['post_word_count'].describe()"
   ]
  },
  {
   "cell_type": "code",
   "execution_count": 35,
   "metadata": {},
   "outputs": [
    {
     "name": "stdout",
     "output_type": "stream",
     "text": [
      "intj outlier_bottom -128.5\n",
      "intj outlier_top 243.5\n"
     ]
    }
   ],
   "source": [
    "IQR = 1.5*(104-11)\n",
    "print('intj outlier_bottom', 11 - IQR)\n",
    "print('intj outlier_top',  104 + IQR)"
   ]
  },
  {
   "cell_type": "markdown",
   "metadata": {},
   "source": [
    "## Sentiment Analysis EDA"
   ]
  },
  {
   "cell_type": "markdown",
   "metadata": {},
   "source": [
    "For Sentiment Analysis I elected to use VADER (Valence Aware Dictionary and sEntiment Reasoner). Per the documentation: \"is a lexicon and rule-based sentiment analysis tool that is specifically attuned to sentiments expressed in social media.\" This makes it ideal for scanning reddit subs as it should be able to be able to address much of the language and text used throughout social media. VADER will scan a given chunk of text (post in this case) and will return 4 different metrics based on it's analysis. It gives a 'neg' (negative) score, for the weight of negative language used throughout, 'neu' (neutral), and 'pos' (positive) language used throughout. It will also compile this into a compound score which \"is computed by summing the valence scores of each word in the lexicon, adjusted according to the rules, and then normalized to be between -1 (most extreme negative) and +1 (most extreme positive). This is the most useful metric if you want a single unidimensional measure of sentiment for a given sentence. Calling it a 'normalized, weighted composite score' is accurate.\""
   ]
  },
  {
   "cell_type": "code",
   "execution_count": 36,
   "metadata": {},
   "outputs": [],
   "source": [
    "#Instantiate the model and apply it to each post using a for loop:\n",
    "analyzer = SentimentIntensityAnalyzer()\n",
    "pol_scores = []\n",
    "for post in df_cat['combotext']:\n",
    "    pol_scores.append(analyzer.polarity_scores(post))"
   ]
  },
  {
   "cell_type": "markdown",
   "metadata": {},
   "source": [
    "Now we will want to attach these scores to each row and see if we can draw any interesting conclusions either by looking at our dataframe or more commonly through EDA"
   ]
  },
  {
   "cell_type": "code",
   "execution_count": 37,
   "metadata": {},
   "outputs": [],
   "source": [
    "df_cat['vader_neg'] = 0\n",
    "df_cat['vader_pos'] = 0\n",
    "df_cat['vader_neu'] = 0\n",
    "df_cat['vader_compound'] = 0\n",
    "\n",
    "for i, q in enumerate(df_cat['combotext']):\n",
    "    vs = analyzer.polarity_scores(q)\n",
    "    df_cat.iloc[i, -4] = vs['neg']\n",
    "    df_cat.iloc[i, -3] = vs['pos']\n",
    "    df_cat.iloc[i, -2] = vs['neu']\n",
    "    df_cat.iloc[i, -1] = vs['compound']"
   ]
  },
  {
   "cell_type": "code",
   "execution_count": 38,
   "metadata": {},
   "outputs": [
    {
     "data": {
      "text/html": [
       "<div>\n",
       "<style scoped>\n",
       "    .dataframe tbody tr th:only-of-type {\n",
       "        vertical-align: middle;\n",
       "    }\n",
       "\n",
       "    .dataframe tbody tr th {\n",
       "        vertical-align: top;\n",
       "    }\n",
       "\n",
       "    .dataframe thead th {\n",
       "        text-align: right;\n",
       "    }\n",
       "</style>\n",
       "<table border=\"1\" class=\"dataframe\">\n",
       "  <thead>\n",
       "    <tr style=\"text-align: right;\">\n",
       "      <th></th>\n",
       "      <th>subreddit</th>\n",
       "      <th>selftext</th>\n",
       "      <th>title</th>\n",
       "      <th>combotext</th>\n",
       "      <th>post_length</th>\n",
       "      <th>post_word_count</th>\n",
       "      <th>vader_neg</th>\n",
       "      <th>vader_pos</th>\n",
       "      <th>vader_neu</th>\n",
       "      <th>vader_compound</th>\n",
       "    </tr>\n",
       "  </thead>\n",
       "  <tbody>\n",
       "    <tr>\n",
       "      <th>0</th>\n",
       "      <td>ESFP</td>\n",
       "      <td></td>\n",
       "      <td>[survey] MBTI—Enneagram Tritype Correlation</td>\n",
       "      <td>survey —enneagram tritype correlation</td>\n",
       "      <td>37</td>\n",
       "      <td>4</td>\n",
       "      <td>0.000</td>\n",
       "      <td>0.000</td>\n",
       "      <td>1.000</td>\n",
       "      <td>0.0000</td>\n",
       "    </tr>\n",
       "    <tr>\n",
       "      <th>1</th>\n",
       "      <td>ESFP</td>\n",
       "      <td>just for fun[View Poll](https://www.reddit.com...</td>\n",
       "      <td>Zodiac Sign</td>\n",
       "      <td>just for fun view</td>\n",
       "      <td>17</td>\n",
       "      <td>4</td>\n",
       "      <td>0.000</td>\n",
       "      <td>0.524</td>\n",
       "      <td>0.476</td>\n",
       "      <td>0.5106</td>\n",
       "    </tr>\n",
       "    <tr>\n",
       "      <th>2</th>\n",
       "      <td>ESFP</td>\n",
       "      <td>We currently have a very active MBTI discord s...</td>\n",
       "      <td>Any ESFPs (or others) here would like to join ...</td>\n",
       "      <td>we currently have a very active discord server...</td>\n",
       "      <td>321</td>\n",
       "      <td>60</td>\n",
       "      <td>0.078</td>\n",
       "      <td>0.163</td>\n",
       "      <td>0.759</td>\n",
       "      <td>0.7233</td>\n",
       "    </tr>\n",
       "    <tr>\n",
       "      <th>3</th>\n",
       "      <td>ESFP</td>\n",
       "      <td>I have seen someone in r/ESTP saying that(i gu...</td>\n",
       "      <td>Are there anyone in romantic relatioship with ...</td>\n",
       "      <td>i have seen someone in r estp saying that i gu...</td>\n",
       "      <td>511</td>\n",
       "      <td>109</td>\n",
       "      <td>0.083</td>\n",
       "      <td>0.178</td>\n",
       "      <td>0.739</td>\n",
       "      <td>0.9128</td>\n",
       "    </tr>\n",
       "    <tr>\n",
       "      <th>4</th>\n",
       "      <td>ESFP</td>\n",
       "      <td>Like, a lot of people see (or refer to) the ES...</td>\n",
       "      <td>What is your idea of the \"party girl\"?</td>\n",
       "      <td>like a lot of people see or refer to the a a p...</td>\n",
       "      <td>268</td>\n",
       "      <td>60</td>\n",
       "      <td>0.039</td>\n",
       "      <td>0.189</td>\n",
       "      <td>0.773</td>\n",
       "      <td>0.8591</td>\n",
       "    </tr>\n",
       "    <tr>\n",
       "      <th>...</th>\n",
       "      <td>...</td>\n",
       "      <td>...</td>\n",
       "      <td>...</td>\n",
       "      <td>...</td>\n",
       "      <td>...</td>\n",
       "      <td>...</td>\n",
       "      <td>...</td>\n",
       "      <td>...</td>\n",
       "      <td>...</td>\n",
       "      <td>...</td>\n",
       "    </tr>\n",
       "    <tr>\n",
       "      <th>3709</th>\n",
       "      <td>intj</td>\n",
       "      <td>As we all know INTJs are considered unemotiona...</td>\n",
       "      <td>Being selectively emotional</td>\n",
       "      <td>a we all know s are considered unemotional but...</td>\n",
       "      <td>305</td>\n",
       "      <td>60</td>\n",
       "      <td>0.000</td>\n",
       "      <td>0.277</td>\n",
       "      <td>0.723</td>\n",
       "      <td>0.9668</td>\n",
       "    </tr>\n",
       "    <tr>\n",
       "      <th>3710</th>\n",
       "      <td>intj</td>\n",
       "      <td></td>\n",
       "      <td>The 3 voices in my head all the day :-</td>\n",
       "      <td>the 3 voice in my head all the day</td>\n",
       "      <td>34</td>\n",
       "      <td>9</td>\n",
       "      <td>0.000</td>\n",
       "      <td>0.000</td>\n",
       "      <td>1.000</td>\n",
       "      <td>0.0000</td>\n",
       "    </tr>\n",
       "    <tr>\n",
       "      <th>3711</th>\n",
       "      <td>intj</td>\n",
       "      <td>I don’t want to say it, but I feel like I’m be...</td>\n",
       "      <td>INFJ Wife</td>\n",
       "      <td>i don’t want to say it but i feel like i’m beg...</td>\n",
       "      <td>2727</td>\n",
       "      <td>540</td>\n",
       "      <td>0.111</td>\n",
       "      <td>0.114</td>\n",
       "      <td>0.776</td>\n",
       "      <td>-0.4584</td>\n",
       "    </tr>\n",
       "    <tr>\n",
       "      <th>3712</th>\n",
       "      <td>intj</td>\n",
       "      <td>I should preface this by saying that I am 18 a...</td>\n",
       "      <td>Dating as a female INTJ</td>\n",
       "      <td>i should preface this by saying that i am 18 a...</td>\n",
       "      <td>1472</td>\n",
       "      <td>279</td>\n",
       "      <td>0.072</td>\n",
       "      <td>0.035</td>\n",
       "      <td>0.893</td>\n",
       "      <td>-0.8287</td>\n",
       "    </tr>\n",
       "    <tr>\n",
       "      <th>3713</th>\n",
       "      <td>intj</td>\n",
       "      <td>Which music album would you enjoy listening to...</td>\n",
       "      <td>Which are your top five favourite music albums...</td>\n",
       "      <td>which music album would you enjoy listening to...</td>\n",
       "      <td>201</td>\n",
       "      <td>36</td>\n",
       "      <td>0.000</td>\n",
       "      <td>0.229</td>\n",
       "      <td>0.771</td>\n",
       "      <td>0.8183</td>\n",
       "    </tr>\n",
       "  </tbody>\n",
       "</table>\n",
       "<p>3714 rows × 10 columns</p>\n",
       "</div>"
      ],
      "text/plain": [
       "     subreddit                                           selftext  \\\n",
       "0         ESFP                                                      \n",
       "1         ESFP  just for fun[View Poll](https://www.reddit.com...   \n",
       "2         ESFP  We currently have a very active MBTI discord s...   \n",
       "3         ESFP  I have seen someone in r/ESTP saying that(i gu...   \n",
       "4         ESFP  Like, a lot of people see (or refer to) the ES...   \n",
       "...        ...                                                ...   \n",
       "3709      intj  As we all know INTJs are considered unemotiona...   \n",
       "3710      intj                                                      \n",
       "3711      intj  I don’t want to say it, but I feel like I’m be...   \n",
       "3712      intj  I should preface this by saying that I am 18 a...   \n",
       "3713      intj  Which music album would you enjoy listening to...   \n",
       "\n",
       "                                                  title  \\\n",
       "0           [survey] MBTI—Enneagram Tritype Correlation   \n",
       "1                                           Zodiac Sign   \n",
       "2     Any ESFPs (or others) here would like to join ...   \n",
       "3     Are there anyone in romantic relatioship with ...   \n",
       "4                What is your idea of the \"party girl\"?   \n",
       "...                                                 ...   \n",
       "3709                        Being selectively emotional   \n",
       "3710             The 3 voices in my head all the day :-   \n",
       "3711                                          INFJ Wife   \n",
       "3712                            Dating as a female INTJ   \n",
       "3713  Which are your top five favourite music albums...   \n",
       "\n",
       "                                              combotext  post_length  \\\n",
       "0                 survey —enneagram tritype correlation           37   \n",
       "1                                     just for fun view           17   \n",
       "2     we currently have a very active discord server...          321   \n",
       "3     i have seen someone in r estp saying that i gu...          511   \n",
       "4     like a lot of people see or refer to the a a p...          268   \n",
       "...                                                 ...          ...   \n",
       "3709  a we all know s are considered unemotional but...          305   \n",
       "3710                 the 3 voice in my head all the day           34   \n",
       "3711  i don’t want to say it but i feel like i’m beg...         2727   \n",
       "3712  i should preface this by saying that i am 18 a...         1472   \n",
       "3713  which music album would you enjoy listening to...          201   \n",
       "\n",
       "      post_word_count  vader_neg  vader_pos  vader_neu  vader_compound  \n",
       "0                   4      0.000      0.000      1.000          0.0000  \n",
       "1                   4      0.000      0.524      0.476          0.5106  \n",
       "2                  60      0.078      0.163      0.759          0.7233  \n",
       "3                 109      0.083      0.178      0.739          0.9128  \n",
       "4                  60      0.039      0.189      0.773          0.8591  \n",
       "...               ...        ...        ...        ...             ...  \n",
       "3709               60      0.000      0.277      0.723          0.9668  \n",
       "3710                9      0.000      0.000      1.000          0.0000  \n",
       "3711              540      0.111      0.114      0.776         -0.4584  \n",
       "3712              279      0.072      0.035      0.893         -0.8287  \n",
       "3713               36      0.000      0.229      0.771          0.8183  \n",
       "\n",
       "[3714 rows x 10 columns]"
      ]
     },
     "execution_count": 38,
     "metadata": {},
     "output_type": "execute_result"
    }
   ],
   "source": [
    "#Examining new dataframe:\n",
    "df_cat"
   ]
  },
  {
   "cell_type": "markdown",
   "metadata": {},
   "source": [
    "**CSV SAVE**"
   ]
  },
  {
   "cell_type": "code",
   "execution_count": 39,
   "metadata": {},
   "outputs": [],
   "source": [
    "# df_cat.to_csv('combo_with_sent.csv')"
   ]
  },
  {
   "cell_type": "markdown",
   "metadata": {},
   "source": [
    "For EDA purposes it might be easier to create two subset dataframes for now to examine the distributions "
   ]
  },
  {
   "cell_type": "code",
   "execution_count": 40,
   "metadata": {},
   "outputs": [],
   "source": [
    "esfp_only = df_cat[df_cat['subreddit']=='ESFP']\n",
    "intj_only = df_cat[df_cat['subreddit']=='intj']"
   ]
  },
  {
   "cell_type": "code",
   "execution_count": 41,
   "metadata": {},
   "outputs": [],
   "source": [
    "ESFP_non_neut = esfp_only[esfp_only['vader_neu'] != 1.000]\n",
    "intj_non_neut = intj_only[intj_only['vader_neu'] != 1.000]"
   ]
  },
  {
   "cell_type": "markdown",
   "metadata": {},
   "source": [
    "I have also filtered out for all the completely neutral posts that might visually skew the distributions, since they may be a result from a removed url post or something without much value. Let's take a look at the distribution of the the three sentiment scores for the both subreddits:"
   ]
  },
  {
   "cell_type": "code",
   "execution_count": 42,
   "metadata": {},
   "outputs": [
    {
     "data": {
      "image/png": "[encoded data removed]",
      "text/plain": [
       "<Figure size 1152x864 with 3 Axes>"
      ]
     },
     "metadata": {
      "needs_background": "light"
     },
     "output_type": "display_data"
    }
   ],
   "source": [
    "# Establish figure size.\n",
    "plt.figure(figsize = (16,12))\n",
    "\n",
    "# We can create subplots, which allows us to have multiple subplots in the same plot.\n",
    "# plt.subplot(3, 1, 1) means we have 3 rows, 1 column, and are referencing plot 1.\n",
    "ax1 = plt.subplot(3, 1, 1)\n",
    "ax1.hist(intj_non_neut['vader_pos'], bins=20)\n",
    "ax1.set_title('Distribution of Vader Pos (intj)')\n",
    "ax1.set_ylabel('Number Of Posts')\n",
    "\n",
    "# plt.subplot(3, 1, 2) means we have 3 rows, 1 column, and are referencing plot 2.\n",
    "ax2 = plt.subplot(3, 1, 2, sharex=ax1)\n",
    "ax2.hist(intj_non_neut['vader_neg'], bins=20)\n",
    "ax2.set_title(\"Distribution of Vader Neg (intj)\")\n",
    "\n",
    "# plt.subplot(3, 1, 3) means we have 3 rows, 1 column, and are referencing plot 3.\n",
    "ax3 = plt.subplot(3, 1, 3, sharex=ax2)\n",
    "ax3.hist(intj_non_neut['vader_neu'], bins=20)\n",
    "ax3.set_title('Distribution of Vader Neu (intj)')\n",
    "\n",
    "plt.tight_layout(); # adds more space"
   ]
  },
  {
   "cell_type": "code",
   "execution_count": 43,
   "metadata": {},
   "outputs": [
    {
     "data": {
      "image/png": "[encoded data removed]",
      "text/plain": [
       "<Figure size 1152x864 with 3 Axes>"
      ]
     },
     "metadata": {
      "needs_background": "light"
     },
     "output_type": "display_data"
    }
   ],
   "source": [
    "# Establish figure size.\n",
    "plt.figure(figsize = (16,12))\n",
    "\n",
    "# We can create subplots, which allows us to have multiple subplots in the same plot.\n",
    "# plt.subplot(3, 1, 1) means we have 3 rows, 1 column, and are referencing plot 1.\n",
    "ax1 = plt.subplot(3, 1, 1)\n",
    "ax1.hist(ESFP_non_neut['vader_pos'], bins=20)\n",
    "ax1.set_title('Distribution of Vader Pos (ESFP)')\n",
    "ax1.set_ylabel('Number Of Posts')\n",
    "\n",
    "# plt.subplot(3, 1, 2) means we have 3 rows, 1 column, and are referencing plot 2.\n",
    "ax2 = plt.subplot(3, 1, 2, sharex=ax1)\n",
    "ax2.hist(ESFP_non_neut['vader_neg'], bins=20)\n",
    "ax2.set_title(\"Distribution of Vader Neg (ESFP)\")\n",
    "\n",
    "# plt.subplot(3, 1, 3) means we have 3 rows, 1 column, and are referencing plot 3.\n",
    "ax3 = plt.subplot(3, 1, 3, sharex=ax2)\n",
    "ax3.hist(ESFP_non_neut['vader_neu'], bins=20)\n",
    "ax3.set_title('Distribution of Vader Neu (ESFP)')\n",
    "\n",
    "plt.tight_layout(); # adds more space"
   ]
  },
  {
   "cell_type": "markdown",
   "metadata": {},
   "source": [
    "**Analysis:** Examing these two groups of distribution charts by subreddit, The seem to beem fairly similarly shaped, which is to be somewhat expected with posts of these nature. Particularly with something like sentiment analysis, it is difficult to account for context of the post. But if we were to draw a conclusion we might be able to say tha ESPF posts contain slightly greater distribution of posts containing language with higher a pos VADER score (but not by a discernable amount)"
   ]
  },
  {
   "cell_type": "markdown",
   "metadata": {},
   "source": [
    "Lastly let's look at the distribution of compound VADER scores and see if there's anything we can gain from that comparison. "
   ]
  },
  {
   "cell_type": "code",
   "execution_count": 44,
   "metadata": {},
   "outputs": [
    {
     "data": {
      "image/png": "[encoded data removed]",
      "text/plain": [
       "<Figure size 1152x864 with 2 Axes>"
      ]
     },
     "metadata": {
      "needs_background": "light"
     },
     "output_type": "display_data"
    }
   ],
   "source": [
    "# Establish figure size.\n",
    "plt.figure(figsize = (16,12))\n",
    "\n",
    "# We can create subplots, which allows us to have multiple subplots in the same plot.\n",
    "# plt.subplot(3, 1, 1) means we have 3 rows, 1 column, and are referencing plot 1.\n",
    "ax1 = plt.subplot(2, 1, 1)\n",
    "ax1.hist(ESFP_non_neut['vader_compound'], bins=50)\n",
    "ax1.set_title('Distribution of Vader Comp in ESFP')\n",
    "ax1.set_ylabel('Number Of Posts')\n",
    "ax1.set_xlabel('VADER Compound Score')\n",
    "\n",
    "# plt.subplot(3, 1, 2) means we have 3 rows, 1 column, and are referencing plot 2.\n",
    "ax2 = plt.subplot(2, 1, 2, sharex=ax1)\n",
    "ax2.hist(intj_non_neut['vader_compound'], bins=50)\n",
    "ax2.set_title(\"Distribution of Vader Comp in intj\")\n",
    "ax2.set_xlabel('VADER Compound Score');"
   ]
  },
  {
   "cell_type": "markdown",
   "metadata": {},
   "source": [
    "**Analysis:** Compound scores seem fairly similar with a left trail for both subreddits, but it is interesting to note the higher area of distribution of negative compound scores with intj posts compared to ESFP. Again, as previously mentioned, it's important to note context issues, but it would be enough to lead us to investigate if there is anything worthwile in the data from a sentiment analysis standpoint. It would make sense that a subreddit containing a more stern, planned group contains more \"serious\" language and the more social subreddit contains \"lighter\" language overall."
   ]
  },
  {
   "cell_type": "code",
   "execution_count": null,
   "metadata": {},
   "outputs": [],
   "source": []
  },
  {
   "cell_type": "markdown",
   "metadata": {},
   "source": [
    "Before our last visualization, we should make sure we convert our subreddit column into a numerical format. Since our interested variable is determining ESFP, we will set that to 1, and intj as 0. We can do this easily enough again with a lamda function shown below:"
   ]
  },
  {
   "cell_type": "code",
   "execution_count": 45,
   "metadata": {},
   "outputs": [],
   "source": [
    "#Binarize: setting ESPF = 1 and intj = 0:\n",
    "df_cat['subreddit'] = df_cat['subreddit'].apply(lambda x: 1 if x == 'ESFP' else 0)"
   ]
  },
  {
   "cell_type": "markdown",
   "metadata": {},
   "source": [
    "### Correlation Heatmap"
   ]
  },
  {
   "cell_type": "markdown",
   "metadata": {},
   "source": [
    "Let's see if we can identify any outstanding correlations between one score and our target variable. As we've explored in previous projects, a great way to do that is with heatmap correlations. I've isolated a single column for just my targeted subreddit and compared them against the Vader scores and post length metrics."
   ]
  },
  {
   "cell_type": "code",
   "execution_count": 46,
   "metadata": {},
   "outputs": [
    {
     "data": {
      "image/png": "[encoded data removed]",
      "text/plain": [
       "<Figure size 432x288 with 2 Axes>"
      ]
     },
     "metadata": {
      "needs_background": "light"
     },
     "output_type": "display_data"
    }
   ],
   "source": [
    "sns.heatmap(df_cat.corr()[['subreddit']].sort_values('subreddit', ascending=False),\n",
    "           vmax=1,\n",
    "           vmin=-1,\n",
    "           cmap='coolwarm',\n",
    "           annot=True);"
   ]
  },
  {
   "cell_type": "markdown",
   "metadata": {},
   "source": [
    "**Analysis:** It doesn't look like there as any standout correlations as everything lands pretty close to the neutral 0 value which would signify noncorrelation. while vader compound is the highest it is still a low enough score that we can conclude these should not be our determining model features. "
   ]
  },
  {
   "cell_type": "markdown",
   "metadata": {},
   "source": [
    "**CSV SAVE**"
   ]
  },
  {
   "cell_type": "code",
   "execution_count": 47,
   "metadata": {},
   "outputs": [],
   "source": [
    "# df_cat.to_csv('combo_binarized.csv')"
   ]
  },
  {
   "cell_type": "markdown",
   "metadata": {},
   "source": [
    "## Word Vectorization EDA"
   ]
  },
  {
   "cell_type": "markdown",
   "metadata": {},
   "source": [
    "Word Vectorization utilizes two helpful methods: CountVectorization and TFIDFVectorization. CountVectors instantiates and fits (similar to a model) and will allow us to scan the fitted column to calculate the prevalance of a word throughout the post. Performing this for all of the column will allow us to then create a dataframe where we can return the most frequently occuring words across both subreddits. TFIDFVectorization performs a similar task but returns which words are most \"impactful\" in this text. This will allow us to penalize more common words and will give greater weight to rarere words. "
   ]
  },
  {
   "cell_type": "markdown",
   "metadata": {},
   "source": [
    "#### CountVectorization"
   ]
  },
  {
   "cell_type": "markdown",
   "metadata": {},
   "source": [
    "Let's first look at the most common words appearing for each subreddit and graph them:"
   ]
  },
  {
   "cell_type": "code",
   "execution_count": 48,
   "metadata": {},
   "outputs": [],
   "source": [
    "#Instantiate (be sure to use the built in stop words feature so you don't collect meaningless words):\n",
    "cvec = CountVectorizer(stop_words='english')\n",
    "#Fit:\n",
    "cvec.fit(df_cat['combotext'])\n",
    "#Create a dataframe with transformed function \n",
    "vector = pd.DataFrame(cvec.transform(df_cat['combotext']).todense(),\n",
    "                  columns = cvec.get_feature_names())"
   ]
  },
  {
   "cell_type": "code",
   "execution_count": 49,
   "metadata": {},
   "outputs": [],
   "source": [
    "#Creating a new dataframe with the top 50 words found in the ESFP subreddit:\n",
    "top_50_esfp=vector[vector['subreddit']==1].sum().sort_values(ascending=False).head(51)\n",
    "esfp_50=pd.DataFrame(top_50_esfp[1:])\n",
    "esfp_50.reset_index(level=0, inplace=True)\n",
    "esfp_50.rename(columns={'index':'word', 0:'word_count'}, inplace=True)\n",
    "\n",
    "#Creating a new dataframe with the top 50 words found in the ESFP subreddit:\n",
    "top_50_intj=vector[vector['subreddit']==0].sum().sort_values(ascending=False).head(50)\n",
    "intj_50=pd.DataFrame(top_50_intj)\n",
    "intj_50.reset_index(level=0, inplace=True)\n",
    "intj_50.rename(columns={'index':'word', 0:'word_count'}, inplace=True)"
   ]
  },
  {
   "cell_type": "markdown",
   "metadata": {},
   "source": [
    "Now we can chart out the Top 25 and Top 26-50 words for both subreddits:"
   ]
  },
  {
   "cell_type": "code",
   "execution_count": 50,
   "metadata": {},
   "outputs": [
    {
     "data": {
      "image/png": "[encoded data removed]",
      "text/plain": [
       "<Figure size 864x432 with 1 Axes>"
      ]
     },
     "metadata": {
      "needs_background": "light"
     },
     "output_type": "display_data"
    },
    {
     "data": {
      "image/png": "[encoded data removed]",
      "text/plain": [
       "<Figure size 864x432 with 1 Axes>"
      ]
     },
     "metadata": {
      "needs_background": "light"
     },
     "output_type": "display_data"
    }
   ],
   "source": [
    "e_sort=esfp_50.sort_values('word_count')\n",
    "plt.figure(figsize=(12, 6))\n",
    "plt.barh(e_sort['word'][25:50], e_sort['word_count'][25:50])\n",
    "plt.title('Top 25 words in ESFP subreddit posts')\n",
    "plt.xlabel('number word occurence')\n",
    "\n",
    "i_sort=intj_50.sort_values('word_count')\n",
    "plt.figure(figsize=(12, 6))\n",
    "plt.barh(i_sort['word'][25:50], i_sort['word_count'][25:50])\n",
    "plt.title('Top 25 words in intj subreddit posts')\n",
    "plt.xlabel('number word occurence');"
   ]
  },
  {
   "cell_type": "code",
   "execution_count": 51,
   "metadata": {},
   "outputs": [
    {
     "data": {
      "image/png": "[encoded data removed]",
      "text/plain": [
       "<Figure size 864x432 with 1 Axes>"
      ]
     },
     "metadata": {
      "needs_background": "light"
     },
     "output_type": "display_data"
    },
    {
     "data": {
      "image/png": "[encoded data removed]",
      "text/plain": [
       "<Figure size 864x432 with 1 Axes>"
      ]
     },
     "metadata": {
      "needs_background": "light"
     },
     "output_type": "display_data"
    }
   ],
   "source": [
    "e_sort=esfp_50.sort_values('word_count')\n",
    "plt.figure(figsize=(12, 6))\n",
    "plt.barh(e_sort['word'][0:25], e_sort['word_count'][0:25])\n",
    "plt.title('Next Top 25 Words in ESFP Subreddit Posts')\n",
    "plt.xlabel('number word occurence')\n",
    "\n",
    "i_sort=intj_50.sort_values('word_count')\n",
    "plt.figure(figsize=(12, 6))\n",
    "plt.barh(i_sort['word'][0:25], i_sort['word_count'][0:25])\n",
    "plt.title('Next Top 25 words in intj Subreddit Posts')\n",
    "plt.xlabel('number word occurence');"
   ]
  },
  {
   "cell_type": "markdown",
   "metadata": {},
   "source": [
    "**Analysis**: It looks like our subreddits use awfully similar languages unfortunately. This will pose a problem when trying to design an effective model, so we should try and find a way to observe more unique elements found throughout the posts. A good place to start is to, as we mentioned, try out TFIDFVectorization. But also another handy technique will be to build out our own set of stop words and try to find words that are more unique to one post versus the other. If we can find that then we can then use those as our features during modeling. "
   ]
  },
  {
   "cell_type": "markdown",
   "metadata": {},
   "source": [
    "### TFIDF"
   ]
  },
  {
   "cell_type": "markdown",
   "metadata": {},
   "source": [
    "Let's first start with a couple of the buzzwords that we think might not help us with feature selection. It will also be necessary to convert our texts into one long string. This will allow us to sort the top TVEC scores easier once we've created the corresponding dataframe:"
   ]
  },
  {
   "cell_type": "code",
   "execution_count": 52,
   "metadata": {},
   "outputs": [],
   "source": [
    "#stopwords extend from: https://stackoverflow.com/questions/5511708/adding-words-to-nltk-stoplist\n",
    "stopwords = nltk.corpus.stopwords.words('english')\n",
    "new_stops = ['poll', 'like', 'just', 'wa', 've', 'http', 'subreddit']\n",
    "stopwords.extend(new_stops)"
   ]
  },
  {
   "cell_type": "code",
   "execution_count": 53,
   "metadata": {},
   "outputs": [],
   "source": [
    "esfp_content = esfp_only['combotext']\n",
    "intj_content = intj_only['combotext']"
   ]
  },
  {
   "cell_type": "code",
   "execution_count": 54,
   "metadata": {},
   "outputs": [],
   "source": [
    "#creating two separate lists of one long string\n",
    "esfp_string_list=[\"\".join(x) for x in esfp_only['combotext']]\n",
    "intj_string_list=[\"\".join(x) for x in intj_only['combotext']]"
   ]
  },
  {
   "cell_type": "code",
   "execution_count": 55,
   "metadata": {},
   "outputs": [],
   "source": [
    "#converting the list to string function:\n",
    "# https://www.geeksforgeeks.org/python-program-to-convert-a-list-to-string/\n",
    "def listToString(s):  \n",
    "    str1 = \" \"   \n",
    "    return (str1.join(s))"
   ]
  },
  {
   "cell_type": "code",
   "execution_count": 56,
   "metadata": {},
   "outputs": [],
   "source": [
    "#creating the two strings:\n",
    "x=listToString(esfp_string_list)\n",
    "y=listToString(intj_string_list)"
   ]
  },
  {
   "cell_type": "code",
   "execution_count": 57,
   "metadata": {},
   "outputs": [
    {
     "data": {
      "text/plain": [
       "TfidfVectorizer(stop_words=['i', 'me', 'my', 'myself', 'we', 'our', 'ours',\n",
       "                            'ourselves', 'you', \"you're\", \"you've\", \"you'll\",\n",
       "                            \"you'd\", 'your', 'yours', 'yourself', 'yourselves',\n",
       "                            'he', 'him', 'his', 'himself', 'she', \"she's\",\n",
       "                            'her', 'hers', 'herself', 'it', \"it's\", 'its',\n",
       "                            'itself', ...])"
      ]
     },
     "execution_count": 57,
     "metadata": {},
     "output_type": "execute_result"
    }
   ],
   "source": [
    "#instantiting with our first batch of custom stopwords and then fitting on both of our srings:\n",
    "tvec = TfidfVectorizer(stop_words=stopwords)\n",
    "tvec.fit([x, y])"
   ]
  },
  {
   "cell_type": "code",
   "execution_count": 58,
   "metadata": {},
   "outputs": [],
   "source": [
    "#creating the dataframe\n",
    "df = pd.DataFrame(tvec.transform([x, y]).todense(),\n",
    "                  columns = tvec.get_feature_names(),\n",
    "                 index = ['esfp', 'intj'])"
   ]
  },
  {
   "cell_type": "markdown",
   "metadata": {},
   "source": [
    "Here we can sort our dataframe first by top row and next by bottom. This will give us an idea of reoccuring words and their weight throughout. The ones that are common we will want to add to our new set of stop words:"
   ]
  },
  {
   "cell_type": "code",
   "execution_count": 59,
   "metadata": {},
   "outputs": [
    {
     "data": {
      "text/html": [
       "<div>\n",
       "<style scoped>\n",
       "    .dataframe tbody tr th:only-of-type {\n",
       "        vertical-align: middle;\n",
       "    }\n",
       "\n",
       "    .dataframe tbody tr th {\n",
       "        vertical-align: top;\n",
       "    }\n",
       "\n",
       "    .dataframe thead th {\n",
       "        text-align: right;\n",
       "    }\n",
       "</style>\n",
       "<table border=\"1\" class=\"dataframe\">\n",
       "  <thead>\n",
       "    <tr style=\"text-align: right;\">\n",
       "      <th></th>\n",
       "      <th>people</th>\n",
       "      <th>get</th>\n",
       "      <th>know</th>\n",
       "      <th>time</th>\n",
       "      <th>thing</th>\n",
       "      <th>feel</th>\n",
       "      <th>want</th>\n",
       "      <th>really</th>\n",
       "      <th>type</th>\n",
       "      <th>friend</th>\n",
       "      <th>think</th>\n",
       "      <th>would</th>\n",
       "      <th>one</th>\n",
       "      <th>love</th>\n",
       "      <th>guy</th>\n",
       "      <th>also</th>\n",
       "      <th>make</th>\n",
       "      <th>life</th>\n",
       "      <th>ha</th>\n",
       "      <th>always</th>\n",
       "    </tr>\n",
       "  </thead>\n",
       "  <tbody>\n",
       "    <tr>\n",
       "      <th>esfp</th>\n",
       "      <td>0.220950</td>\n",
       "      <td>0.207308</td>\n",
       "      <td>0.201080</td>\n",
       "      <td>0.196928</td>\n",
       "      <td>0.191589</td>\n",
       "      <td>0.188327</td>\n",
       "      <td>0.187141</td>\n",
       "      <td>0.174091</td>\n",
       "      <td>0.169346</td>\n",
       "      <td>0.164304</td>\n",
       "      <td>0.164304</td>\n",
       "      <td>0.161635</td>\n",
       "      <td>0.143544</td>\n",
       "      <td>0.137612</td>\n",
       "      <td>0.118038</td>\n",
       "      <td>0.117148</td>\n",
       "      <td>0.115369</td>\n",
       "      <td>0.109141</td>\n",
       "      <td>0.104692</td>\n",
       "      <td>0.100243</td>\n",
       "    </tr>\n",
       "    <tr>\n",
       "      <th>intj</th>\n",
       "      <td>0.257845</td>\n",
       "      <td>0.174657</td>\n",
       "      <td>0.202747</td>\n",
       "      <td>0.200946</td>\n",
       "      <td>0.184741</td>\n",
       "      <td>0.212830</td>\n",
       "      <td>0.131443</td>\n",
       "      <td>0.153770</td>\n",
       "      <td>0.091110</td>\n",
       "      <td>0.124601</td>\n",
       "      <td>0.178979</td>\n",
       "      <td>0.188342</td>\n",
       "      <td>0.154491</td>\n",
       "      <td>0.092910</td>\n",
       "      <td>0.068062</td>\n",
       "      <td>0.113797</td>\n",
       "      <td>0.140446</td>\n",
       "      <td>0.105155</td>\n",
       "      <td>0.108756</td>\n",
       "      <td>0.095791</td>\n",
       "    </tr>\n",
       "  </tbody>\n",
       "</table>\n",
       "</div>"
      ],
      "text/plain": [
       "        people       get      know      time     thing      feel      want  \\\n",
       "esfp  0.220950  0.207308  0.201080  0.196928  0.191589  0.188327  0.187141   \n",
       "intj  0.257845  0.174657  0.202747  0.200946  0.184741  0.212830  0.131443   \n",
       "\n",
       "        really      type    friend     think     would       one      love  \\\n",
       "esfp  0.174091  0.169346  0.164304  0.164304  0.161635  0.143544  0.137612   \n",
       "intj  0.153770  0.091110  0.124601  0.178979  0.188342  0.154491  0.092910   \n",
       "\n",
       "           guy      also      make      life        ha    always  \n",
       "esfp  0.118038  0.117148  0.115369  0.109141  0.104692  0.100243  \n",
       "intj  0.068062  0.113797  0.140446  0.105155  0.108756  0.095791  "
      ]
     },
     "execution_count": 59,
     "metadata": {},
     "output_type": "execute_result"
    }
   ],
   "source": [
    "df.T.sort_values('esfp', ascending = False).head(20).T"
   ]
  },
  {
   "cell_type": "code",
   "execution_count": 60,
   "metadata": {},
   "outputs": [
    {
     "data": {
      "text/html": [
       "<div>\n",
       "<style scoped>\n",
       "    .dataframe tbody tr th:only-of-type {\n",
       "        vertical-align: middle;\n",
       "    }\n",
       "\n",
       "    .dataframe tbody tr th {\n",
       "        vertical-align: top;\n",
       "    }\n",
       "\n",
       "    .dataframe thead th {\n",
       "        text-align: right;\n",
       "    }\n",
       "</style>\n",
       "<table border=\"1\" class=\"dataframe\">\n",
       "  <thead>\n",
       "    <tr style=\"text-align: right;\">\n",
       "      <th></th>\n",
       "      <th>people</th>\n",
       "      <th>feel</th>\n",
       "      <th>know</th>\n",
       "      <th>time</th>\n",
       "      <th>would</th>\n",
       "      <th>thing</th>\n",
       "      <th>think</th>\n",
       "      <th>get</th>\n",
       "      <th>one</th>\n",
       "      <th>really</th>\n",
       "      <th>make</th>\n",
       "      <th>want</th>\n",
       "      <th>even</th>\n",
       "      <th>friend</th>\n",
       "      <th>way</th>\n",
       "      <th>also</th>\n",
       "      <th>ha</th>\n",
       "      <th>life</th>\n",
       "      <th>something</th>\n",
       "      <th>selfie</th>\n",
       "    </tr>\n",
       "  </thead>\n",
       "  <tbody>\n",
       "    <tr>\n",
       "      <th>esfp</th>\n",
       "      <td>0.220950</td>\n",
       "      <td>0.188327</td>\n",
       "      <td>0.201080</td>\n",
       "      <td>0.196928</td>\n",
       "      <td>0.161635</td>\n",
       "      <td>0.191589</td>\n",
       "      <td>0.164304</td>\n",
       "      <td>0.207308</td>\n",
       "      <td>0.143544</td>\n",
       "      <td>0.174091</td>\n",
       "      <td>0.115369</td>\n",
       "      <td>0.187141</td>\n",
       "      <td>0.098167</td>\n",
       "      <td>0.164304</td>\n",
       "      <td>0.098760</td>\n",
       "      <td>0.117148</td>\n",
       "      <td>0.104692</td>\n",
       "      <td>0.109141</td>\n",
       "      <td>0.093422</td>\n",
       "      <td>0.000000</td>\n",
       "    </tr>\n",
       "    <tr>\n",
       "      <th>intj</th>\n",
       "      <td>0.257845</td>\n",
       "      <td>0.212830</td>\n",
       "      <td>0.202747</td>\n",
       "      <td>0.200946</td>\n",
       "      <td>0.188342</td>\n",
       "      <td>0.184741</td>\n",
       "      <td>0.178979</td>\n",
       "      <td>0.174657</td>\n",
       "      <td>0.154491</td>\n",
       "      <td>0.153770</td>\n",
       "      <td>0.140446</td>\n",
       "      <td>0.131443</td>\n",
       "      <td>0.126762</td>\n",
       "      <td>0.124601</td>\n",
       "      <td>0.115598</td>\n",
       "      <td>0.113797</td>\n",
       "      <td>0.108756</td>\n",
       "      <td>0.105155</td>\n",
       "      <td>0.103714</td>\n",
       "      <td>0.100214</td>\n",
       "    </tr>\n",
       "  </tbody>\n",
       "</table>\n",
       "</div>"
      ],
      "text/plain": [
       "        people      feel      know      time     would     thing     think  \\\n",
       "esfp  0.220950  0.188327  0.201080  0.196928  0.161635  0.191589  0.164304   \n",
       "intj  0.257845  0.212830  0.202747  0.200946  0.188342  0.184741  0.178979   \n",
       "\n",
       "           get       one    really      make      want      even    friend  \\\n",
       "esfp  0.207308  0.143544  0.174091  0.115369  0.187141  0.098167  0.164304   \n",
       "intj  0.174657  0.154491  0.153770  0.140446  0.131443  0.126762  0.124601   \n",
       "\n",
       "           way      also        ha      life  something    selfie  \n",
       "esfp  0.098760  0.117148  0.104692  0.109141   0.093422  0.000000  \n",
       "intj  0.115598  0.113797  0.108756  0.105155   0.103714  0.100214  "
      ]
     },
     "execution_count": 60,
     "metadata": {},
     "output_type": "execute_result"
    }
   ],
   "source": [
    "df.T.sort_values('intj', ascending = False).head(20).T"
   ]
  },
  {
   "cell_type": "code",
   "execution_count": 61,
   "metadata": {},
   "outputs": [
    {
     "data": {
      "text/plain": [
       "('people',\n",
       " 'know',\n",
       " 'time',\n",
       " 'get',\n",
       " 'feel',\n",
       " 'thing',\n",
       " 'want',\n",
       " 'friend',\n",
       " 'would',\n",
       " 'even',\n",
       " 'also',\n",
       " 'ha',\n",
       " 'life',\n",
       " 'something',\n",
       " 'always')"
      ]
     },
     "execution_count": 61,
     "metadata": {},
     "output_type": "execute_result"
    }
   ],
   "source": [
    "#add common stop words to make more unique:\n",
    "'people', 'know', 'time', 'get', 'feel', 'thing', 'want', 'friend', 'would', 'even', 'also', 'ha', 'life', 'something', 'always'"
   ]
  },
  {
   "cell_type": "markdown",
   "metadata": {},
   "source": [
    "After performing this a few times I was able to arrive at the bottom "
   ]
  },
  {
   "cell_type": "code",
   "execution_count": 62,
   "metadata": {},
   "outputs": [],
   "source": [
    "stopwords = nltk.corpus.stopwords.words('english')\n",
    "new_stops = ['poll', 'like', 'just', 'wa', 've', 'http', 'subreddit', 'people', 'know', 'time', 'get',\n",
    "             'feel', 'thing', 'want', 'friend','would', 'even', 'also', 'ha', 'life', 'something', \n",
    "             'always', 'think', 'say', 'one', 'see', 'go', 'say', 'day', 'work', 'lot', 'really', 'much',\n",
    "            'need', 'personality', 'person', 'enfp', 'make', 'way', 'someone', 'year', 'good',\n",
    "            'anyone', 'well', 'thought', 'never', 'thought', 'going']\n",
    "stopwords.extend(new_stops)"
   ]
  },
  {
   "cell_type": "code",
   "execution_count": 63,
   "metadata": {},
   "outputs": [
    {
     "data": {
      "text/plain": [
       "TfidfVectorizer(stop_words=['i', 'me', 'my', 'myself', 'we', 'our', 'ours',\n",
       "                            'ourselves', 'you', \"you're\", \"you've\", \"you'll\",\n",
       "                            \"you'd\", 'your', 'yours', 'yourself', 'yourselves',\n",
       "                            'he', 'him', 'his', 'himself', 'she', \"she's\",\n",
       "                            'her', 'hers', 'herself', 'it', \"it's\", 'its',\n",
       "                            'itself', ...])"
      ]
     },
     "execution_count": 63,
     "metadata": {},
     "output_type": "execute_result"
    }
   ],
   "source": [
    "tvec = TfidfVectorizer(stop_words=stopwords)\n",
    "tvec.fit([x, y])"
   ]
  },
  {
   "cell_type": "code",
   "execution_count": 64,
   "metadata": {},
   "outputs": [],
   "source": [
    "df_new = pd.DataFrame(tvec.transform([x, y]).todense(),\n",
    "                  columns = tvec.get_feature_names(),\n",
    "                 index = ['esfp', 'intj'])"
   ]
  },
  {
   "cell_type": "code",
   "execution_count": 65,
   "metadata": {},
   "outputs": [
    {
     "data": {
      "text/html": [
       "<div>\n",
       "<style scoped>\n",
       "    .dataframe tbody tr th:only-of-type {\n",
       "        vertical-align: middle;\n",
       "    }\n",
       "\n",
       "    .dataframe tbody tr th {\n",
       "        vertical-align: top;\n",
       "    }\n",
       "\n",
       "    .dataframe thead th {\n",
       "        text-align: right;\n",
       "    }\n",
       "</style>\n",
       "<table border=\"1\" class=\"dataframe\">\n",
       "  <thead>\n",
       "    <tr style=\"text-align: right;\">\n",
       "      <th></th>\n",
       "      <th>type</th>\n",
       "      <th>love</th>\n",
       "      <th>guy</th>\n",
       "      <th>relationship</th>\n",
       "      <th>help</th>\n",
       "      <th>find</th>\n",
       "      <th>talk</th>\n",
       "      <th>could</th>\n",
       "      <th>se</th>\n",
       "      <th>around</th>\n",
       "      <th>come</th>\n",
       "      <th>take</th>\n",
       "      <th>question</th>\n",
       "      <th>doe</th>\n",
       "      <th>back</th>\n",
       "      <th>sometimes</th>\n",
       "      <th>best</th>\n",
       "      <th>everyone</th>\n",
       "      <th>pretty</th>\n",
       "      <th>got</th>\n",
       "    </tr>\n",
       "  </thead>\n",
       "  <tbody>\n",
       "    <tr>\n",
       "      <th>esfp</th>\n",
       "      <td>0.273322</td>\n",
       "      <td>0.222104</td>\n",
       "      <td>0.190511</td>\n",
       "      <td>0.154132</td>\n",
       "      <td>0.141687</td>\n",
       "      <td>0.105787</td>\n",
       "      <td>0.105787</td>\n",
       "      <td>0.09717</td>\n",
       "      <td>0.092384</td>\n",
       "      <td>0.090469</td>\n",
       "      <td>0.090469</td>\n",
       "      <td>0.089512</td>\n",
       "      <td>0.087118</td>\n",
       "      <td>0.086640</td>\n",
       "      <td>0.085204</td>\n",
       "      <td>0.084725</td>\n",
       "      <td>0.084725</td>\n",
       "      <td>0.083768</td>\n",
       "      <td>0.082332</td>\n",
       "      <td>0.081853</td>\n",
       "    </tr>\n",
       "    <tr>\n",
       "      <th>intj</th>\n",
       "      <td>0.150032</td>\n",
       "      <td>0.152997</td>\n",
       "      <td>0.112079</td>\n",
       "      <td>0.101405</td>\n",
       "      <td>0.112672</td>\n",
       "      <td>0.156555</td>\n",
       "      <td>0.083614</td>\n",
       "      <td>0.12216</td>\n",
       "      <td>0.026092</td>\n",
       "      <td>0.066417</td>\n",
       "      <td>0.085393</td>\n",
       "      <td>0.100219</td>\n",
       "      <td>0.074126</td>\n",
       "      <td>0.123939</td>\n",
       "      <td>0.077684</td>\n",
       "      <td>0.072940</td>\n",
       "      <td>0.064638</td>\n",
       "      <td>0.090138</td>\n",
       "      <td>0.060487</td>\n",
       "      <td>0.086579</td>\n",
       "    </tr>\n",
       "  </tbody>\n",
       "</table>\n",
       "</div>"
      ],
      "text/plain": [
       "          type      love       guy  relationship      help      find  \\\n",
       "esfp  0.273322  0.222104  0.190511      0.154132  0.141687  0.105787   \n",
       "intj  0.150032  0.152997  0.112079      0.101405  0.112672  0.156555   \n",
       "\n",
       "          talk    could        se    around      come      take  question  \\\n",
       "esfp  0.105787  0.09717  0.092384  0.090469  0.090469  0.089512  0.087118   \n",
       "intj  0.083614  0.12216  0.026092  0.066417  0.085393  0.100219  0.074126   \n",
       "\n",
       "           doe      back  sometimes      best  everyone    pretty       got  \n",
       "esfp  0.086640  0.085204   0.084725  0.084725  0.083768  0.082332  0.081853  \n",
       "intj  0.123939  0.077684   0.072940  0.064638  0.090138  0.060487  0.086579  "
      ]
     },
     "execution_count": 65,
     "metadata": {},
     "output_type": "execute_result"
    }
   ],
   "source": [
    "df_new.T.sort_values('esfp', ascending = False).head(20).T"
   ]
  },
  {
   "cell_type": "code",
   "execution_count": 66,
   "metadata": {},
   "outputs": [
    {
     "data": {
      "text/html": [
       "<div>\n",
       "<style scoped>\n",
       "    .dataframe tbody tr th:only-of-type {\n",
       "        vertical-align: middle;\n",
       "    }\n",
       "\n",
       "    .dataframe tbody tr th {\n",
       "        vertical-align: top;\n",
       "    }\n",
       "\n",
       "    .dataframe thead th {\n",
       "        text-align: right;\n",
       "    }\n",
       "</style>\n",
       "<table border=\"1\" class=\"dataframe\">\n",
       "  <thead>\n",
       "    <tr style=\"text-align: right;\">\n",
       "      <th></th>\n",
       "      <th>selfie</th>\n",
       "      <th>find</th>\n",
       "      <th>love</th>\n",
       "      <th>type</th>\n",
       "      <th>doe</th>\n",
       "      <th>could</th>\n",
       "      <th>else</th>\n",
       "      <th>help</th>\n",
       "      <th>guy</th>\n",
       "      <th>since</th>\n",
       "      <th>relationship</th>\n",
       "      <th>take</th>\n",
       "      <th>still</th>\n",
       "      <th>view</th>\n",
       "      <th>experience</th>\n",
       "      <th>first</th>\n",
       "      <th>actually</th>\n",
       "      <th>many</th>\n",
       "      <th>everyone</th>\n",
       "      <th>better</th>\n",
       "    </tr>\n",
       "  </thead>\n",
       "  <tbody>\n",
       "    <tr>\n",
       "      <th>esfp</th>\n",
       "      <td>0.000000</td>\n",
       "      <td>0.105787</td>\n",
       "      <td>0.222104</td>\n",
       "      <td>0.273322</td>\n",
       "      <td>0.086640</td>\n",
       "      <td>0.09717</td>\n",
       "      <td>0.075630</td>\n",
       "      <td>0.141687</td>\n",
       "      <td>0.190511</td>\n",
       "      <td>0.080417</td>\n",
       "      <td>0.154132</td>\n",
       "      <td>0.089512</td>\n",
       "      <td>0.078502</td>\n",
       "      <td>0.040208</td>\n",
       "      <td>0.078502</td>\n",
       "      <td>0.062227</td>\n",
       "      <td>0.067014</td>\n",
       "      <td>0.069886</td>\n",
       "      <td>0.083768</td>\n",
       "      <td>0.056962</td>\n",
       "    </tr>\n",
       "    <tr>\n",
       "      <th>intj</th>\n",
       "      <td>0.165024</td>\n",
       "      <td>0.156555</td>\n",
       "      <td>0.152997</td>\n",
       "      <td>0.150032</td>\n",
       "      <td>0.123939</td>\n",
       "      <td>0.12216</td>\n",
       "      <td>0.118602</td>\n",
       "      <td>0.112672</td>\n",
       "      <td>0.112079</td>\n",
       "      <td>0.107928</td>\n",
       "      <td>0.101405</td>\n",
       "      <td>0.100219</td>\n",
       "      <td>0.094882</td>\n",
       "      <td>0.094882</td>\n",
       "      <td>0.094882</td>\n",
       "      <td>0.093103</td>\n",
       "      <td>0.091917</td>\n",
       "      <td>0.091324</td>\n",
       "      <td>0.090138</td>\n",
       "      <td>0.089545</td>\n",
       "    </tr>\n",
       "  </tbody>\n",
       "</table>\n",
       "</div>"
      ],
      "text/plain": [
       "        selfie      find      love      type       doe    could      else  \\\n",
       "esfp  0.000000  0.105787  0.222104  0.273322  0.086640  0.09717  0.075630   \n",
       "intj  0.165024  0.156555  0.152997  0.150032  0.123939  0.12216  0.118602   \n",
       "\n",
       "          help       guy     since  relationship      take     still  \\\n",
       "esfp  0.141687  0.190511  0.080417      0.154132  0.089512  0.078502   \n",
       "intj  0.112672  0.112079  0.107928      0.101405  0.100219  0.094882   \n",
       "\n",
       "          view  experience     first  actually      many  everyone    better  \n",
       "esfp  0.040208    0.078502  0.062227  0.067014  0.069886  0.083768  0.056962  \n",
       "intj  0.094882    0.094882  0.093103  0.091917  0.091324  0.090138  0.089545  "
      ]
     },
     "execution_count": 66,
     "metadata": {},
     "output_type": "execute_result"
    }
   ],
   "source": [
    "df_new.T.sort_values('intj', ascending = False).head(20).T"
   ]
  },
  {
   "cell_type": "markdown",
   "metadata": {},
   "source": [
    "While we had to remove quite a bit of words, hopefully now we have discovered enough identifying words that will be able to provide a working classifier model. We will want to apply these two lists as our features initially on our fully tfidfVectorized list and create our models accordingly. For modeling and analysis refering to notebook 04"
   ]
  },
  {
   "cell_type": "markdown",
   "metadata": {},
   "source": [
    "**CSV SAVE**"
   ]
  },
  {
   "cell_type": "code",
   "execution_count": 67,
   "metadata": {},
   "outputs": [],
   "source": [
    "# df_new.to_csv('tvec_final.csv')"
   ]
  },
  {
   "cell_type": "markdown",
   "metadata": {},
   "source": [
    "Saving our full TVEC dataframe for modeling purposes:"
   ]
  },
  {
   "cell_type": "code",
   "execution_count": 68,
   "metadata": {},
   "outputs": [],
   "source": [
    "stopwords = nltk.corpus.stopwords.words('english')\n",
    "new_stops = ['poll', 'like', 'just', 'wa', 've', 'http', 'subreddit', 'people', 'know', 'time', 'get',\n",
    "             'feel', 'thing', 'want', 'friend','would', 'even', 'also', 'ha', 'life', 'something', \n",
    "             'always', 'think', 'say', 'one', 'see', 'go', 'say', 'day', 'work', 'lot', 'really', 'much',\n",
    "            'need', 'personality', 'person', 'enfp', 'make', 'way', 'someone', 'year', 'good',\n",
    "            'anyone', 'well', 'thought', 'never', 'thought', 'going']\n",
    "stopwords.extend(new_stops)"
   ]
  },
  {
   "cell_type": "code",
   "execution_count": 69,
   "metadata": {},
   "outputs": [],
   "source": [
    "content=df_cat['combotext']"
   ]
  },
  {
   "cell_type": "code",
   "execution_count": 70,
   "metadata": {},
   "outputs": [
    {
     "data": {
      "text/plain": [
       "TfidfVectorizer(stop_words=['i', 'me', 'my', 'myself', 'we', 'our', 'ours',\n",
       "                            'ourselves', 'you', \"you're\", \"you've\", \"you'll\",\n",
       "                            \"you'd\", 'your', 'yours', 'yourself', 'yourselves',\n",
       "                            'he', 'him', 'his', 'himself', 'she', \"she's\",\n",
       "                            'her', 'hers', 'herself', 'it', \"it's\", 'its',\n",
       "                            'itself', ...])"
      ]
     },
     "execution_count": 70,
     "metadata": {},
     "output_type": "execute_result"
    }
   ],
   "source": [
    "tvec = TfidfVectorizer(stop_words=stopwords)\n",
    "tvec.fit(content)"
   ]
  },
  {
   "cell_type": "code",
   "execution_count": 71,
   "metadata": {},
   "outputs": [],
   "source": [
    "total_tvec = pd.DataFrame(tvec.transform(content).todense(),\n",
    "                  columns = tvec.get_feature_names())"
   ]
  },
  {
   "cell_type": "code",
   "execution_count": 72,
   "metadata": {},
   "outputs": [],
   "source": [
    "total_tvec['subreddit']=df_cat['subreddit']"
   ]
  },
  {
   "cell_type": "code",
   "execution_count": 73,
   "metadata": {},
   "outputs": [],
   "source": [
    "# total_tvec.to_csv('total_tvec_df.csv')"
   ]
  },
  {
   "cell_type": "code",
   "execution_count": null,
   "metadata": {},
   "outputs": [],
   "source": []
  }
 ],
 "metadata": {
  "kernelspec": {
   "display_name": "Python 3",
   "language": "python",
   "name": "python3"
  },
  "language_info": {
   "codemirror_mode": {
    "name": "ipython",
    "version": 3
   },
   "file_extension": ".py",
   "mimetype": "text/x-python",
   "name": "python",
   "nbconvert_exporter": "python",
   "pygments_lexer": "ipython3",
   "version": "3.8.5"
  }
 },
 "nbformat": 4,
 "nbformat_minor": 4
}
